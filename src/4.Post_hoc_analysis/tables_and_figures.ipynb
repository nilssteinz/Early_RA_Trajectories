{
 "cells": [
  {
   "cell_type": "code",
   "execution_count": 1,
   "id": "daca6d0e-1592-464f-844a-fc2a3f1850be",
   "metadata": {},
   "outputs": [
    {
     "name": "stdout",
     "output_type": "stream",
     "text": [
      "imports worked\n"
     ]
    }
   ],
   "source": [
    "\n",
    "import __init__\n",
    "from utils.lifelines_preprocess import surv_functions\n",
    "import os\n",
    "\n",
    "wd = \"/exports/reum/dvanderbijl/\"\n",
    "data_dir = \"/exports/reum/nsteinz/data/data_03_12_22/\"\n",
    "results_dir = \"/exports/reum/nsteinz/results/\"\n",
    "import pandas as pd\n",
    "import numpy as np\n",
    "from matplotlib import pyplot as plt\n",
    "from sklearn.neighbors import NearestNeighbors, KDTree, kneighbors_graph\n",
    "from sklearn.metrics import pairwise_distances\n",
    "\n",
    "from lifelines import CoxPHFitter\n",
    "\n",
    "import seaborn as sns"
   ]
  },
  {
   "cell_type": "code",
   "execution_count": 2,
   "id": "179c628b-c206-4ed4-999a-523ec6c0e9dc",
   "metadata": {},
   "outputs": [
    {
     "name": "stdout",
     "output_type": "stream",
     "text": [
      "/exports/reum/nsteinz/Project_trajectories\n",
      "/exports/reum/nsteinz/Project_trajectories/raw_data/\n",
      "/exports/reum/nsteinz/Project_trajectories/trajectories/data/\n",
      "/exports/reum/nsteinz/Project_trajectories/trajectories/output\n"
     ]
    }
   ],
   "source": [
    "subproject_name = \"trajectories\"\n",
    "\n",
    "wd = \"../../../\"\n",
    "project_path = os.path.realpath(wd)\n",
    "print(project_path)\n",
    "\n",
    "raw_data_dir = project_path+\"/raw_data/\"\n",
    "print(raw_data_dir)\n",
    "\n",
    "\n",
    "data_dir = project_path+f\"/{subproject_name}\"+\"/data/\"\n",
    "print(data_dir)\n",
    "\n",
    "results_dir = project_path+f\"/{subproject_name}\"+\"/output\"\n",
    "print(results_dir)\n"
   ]
  },
  {
   "cell_type": "code",
   "execution_count": 7,
   "id": "2319bb5b-6eb5-45c4-86d7-bdeef7c97303",
   "metadata": {},
   "outputs": [],
   "source": [
    "dmards = ['ABATACEPT',\n",
    "       'ADALIMUMAB', 'AZATHIOPRINE', 'BARICITINIB', 'CERTOLIZUMAB_PEGOL',\n",
    "       'CYCLOPHOSPHAMIDE', 'ETANERCEPT', 'GOLIMUMAB', 'HYDROXYCHLOROQUINE',\n",
    "       'INFLIXIMAB', 'LEFLUNOMIDE', 'METHOTREXATE',\n",
    "       'RITUXIMAB', 'SODIUM_AUROTHIOMALATE', 'SULFASALAZINE',\n",
    "       'TOCILIZUMAB', 'TOFACITINIB']\n",
    "dmard_types = {\n",
    "    \"TNF_b_dmards\" : ['ETANERCEPT', 'GOLIMUMAB','INFLIXIMAB','CERTOLIZUMAB_PEGOL', 'ADALIMUMAB'],\n",
    "    \"IL6_b_dmards\" : ['CERTOLIZUMAB_PEGOL'],\n",
    "    \"IL1_b_dmards\" : ['TOCILIZUMAB'],\n",
    "    \"tcell_b_dmards\" : ['ABATACEPT'],\n",
    "    \"cd20_b_dmards\" : ['RITUXIMAB'],\n",
    "    \"cs_dmards\" : [\"METHOTREXATE\",'HYDROXYCHLOROQUINE','LEFLUNOMIDE', 'SULFASALAZINE'],\n",
    "    \"jak_dmard\" : ['TOFACITINIB', 'BARICITINIB'],\n",
    "    \"XO_damrd\" : ['AZATHIOPRINE'],\n",
    "    \"OP_dmard\" : [\"CYCLOPHOSPHAMIDE\"],\n",
    "    \"predni\":   ['PREDNISOLONE',\"METHYLPREDNISOLONE\"],\n",
    "}\n",
    "predni=   ['PREDNISOLONE',\"METHYLPREDNISOLONE\"]\n",
    "#predni =  ['PREDNISOLONE',\"METHYLPREDNISOLONE\"]"
   ]
  },
  {
   "cell_type": "code",
   "execution_count": 29,
   "id": "86534da3-5d25-4d7e-b938-23d05f3fd102",
   "metadata": {},
   "outputs": [
    {
     "data": {
      "text/plain": [
       "Index(['TJC_28', 'SJC_28', 'ESR', 'leukocytes', 'hb_corrected', 'MCV',\n",
       "       'thrombocytes', 'TJC_28_o', 'SJC_28_o', 'ESR_o', 'leukocytes_o',\n",
       "       'hb_corrected_o', 'MCV_o', 'thrombocytes_o', 'das28_n', 'das28',\n",
       "       'das44', 'SJC_44_o', 'TJC_44_o', 'aCCP positive', 'RF positive',\n",
       "       'label', 'days', 'days_nlp', 'PATNR', 'DATUM', 'Age', 'sex',\n",
       "       'dmard_usage', 'symptomDuration', 'days_DMARD', 'Hemoglobine',\n",
       "       'sequence', 'Age_n', 'remision', 'ABATACEPT', 'ADALIMUMAB', 'ANAKINRA',\n",
       "       'SODIUM_AUROTHIOMALATE', 'AZATHIOPRINE', 'BARICITINIB',\n",
       "       'CERTOLIZUMAB_PEGOL', 'CICLOSPORINE', 'CYCLOPHOSPHAMIDE', 'ETANERCEPT',\n",
       "       'GOLIMUMAB', 'HYDROXYCHLOROQUINE', 'INFLIXIMAB', 'LEFLUNOMIDE',\n",
       "       'METHOTREXATE', 'SULFASALAZINE', 'TOCILIZUMAB', 'TOFACITINIB',\n",
       "       'METHYLPREDNISOLONE', 'PREDNISOLONE', 'TNF_b_dmards', 'IL6_b_dmards',\n",
       "       'IL1_b_dmards', 'tcell_b_dmards', 'cs_dmards', 'jak_dmard', 'XO_damrd',\n",
       "       'OP_dmard', 'TC_dmard', 'gld_dmard', 'count', 'no_med', 'med',\n",
       "       'to_clust', 'label_text', 'to_clust_text', 'traject_label', 'seq',\n",
       "       'one', 'two', 'no_disease', 'double_pos', 'sero_negative', 'seropos',\n",
       "       'from_clust', 'global_trajectory_o', 'global_trajectory', 'communi_x',\n",
       "       'communi_y', 'communi_x.1', 'communi_y.1', 'communi', 'L2', 'L1'],\n",
       "      dtype='object')"
      ]
     },
     "execution_count": 29,
     "metadata": {},
     "output_type": "execute_result"
    }
   ],
   "source": [
    "leiden_features = [\n",
    "            'TJC_28',\n",
    "            'SJC_28',\n",
    "            'ESR',\n",
    "            'leukocytes',\n",
    "            \"hb_corrected\",\n",
    "            'thrombocytes',\n",
    "            'MCV',\n",
    "           ]\n",
    "\n",
    "features_o = [f\"{x}_o\" for x in leiden_features]\n",
    "leiden = pd.read_csv(data_dir+ \"predictie_data.csv\",)\n",
    "leiden\n",
    "leiden.columns"
   ]
  },
  {
   "cell_type": "code",
   "execution_count": 14,
   "id": "fb2719c0-47ad-49e3-9140-67353c7252cd",
   "metadata": {},
   "outputs": [
    {
     "data": {
      "text/plain": [
       "Index(['index', 'Subject ID', 'months', 'Study', 'Age', 'Race', 'Sex',\n",
       "       'Weight', 'Date of Assessment', 'Date of symptom onset', 'Final Score',\n",
       "       'Unnamed: 10', 'acpa', 'RF', 'ACPA positive SCR',\n",
       "       'Rheum Factor positive SCR', 'Basophils', 'CRP Value (mg/L)',\n",
       "       'DAS-28 CRP', 'DAS28', 'ESR', 'Eosinophils', 'GL', 'HB', 'Lymphocytes',\n",
       "       'Monocytes', 'Neutrophils', 'thrombocytes', 'SJC_28', 'TJC_28',\n",
       "       'leukocytes', 'Adalimumab', 'Certolizumab', 'Dexamethasone',\n",
       "       'Etanercept', 'Folic Acid', 'Golimumab', 'Hydroxychloroquine',\n",
       "       'Leflunomide', 'Methotrexate', 'Methylprednisolone',\n",
       "       'Methylprednisolone Acetate', 'Prednisolone', 'Sulfasalazine',\n",
       "       'Tocilizumab', 'Triamcinolone (Kenalog)', 'days', 'seropos',\n",
       "       'HB_corrected', 'hemoglobin', 'das_28_c', 'visit_count', 'predni',\n",
       "       'm_dmards', 'dmard_usage', 'label', 'TJC_28_n', 'SJC_28_n', 'ESR_n',\n",
       "       'leukocytes_n', 'hemoglobin_n', 'thrombocytes_n', 'das28_n', 'das28',\n",
       "       'aCCP positive', 'RF positive', 'PATNR', 'DATUM', 'sex', 'to_clust',\n",
       "       'label_text', 'to_clust_text', 'age_cate', 'seasons'],\n",
       "      dtype='object')"
      ]
     },
     "execution_count": 14,
     "metadata": {},
     "output_type": "execute_result"
    }
   ],
   "source": [
    "tacera_features = [\n",
    "            'TJC_28', \n",
    "            'SJC_28',\n",
    "            'ESR',\n",
    "            'leukocytes',        \n",
    "            'hemoglobin',\n",
    "            'thrombocytes',\n",
    "           ]\n",
    "tacera = pd.read_csv(data_dir+\"tacera_cluster_data.csv\")\n",
    "tacera.columns"
   ]
  },
  {
   "cell_type": "code",
   "execution_count": 10,
   "id": "3b4be5e4-7f97-4aa3-9a9b-5e8cea47c9a4",
   "metadata": {},
   "outputs": [],
   "source": [
    "\n",
    "def print_latex_table_EHR(dataset, \n",
    "                          groupby=\"Subject ID\",\n",
    "                          query = \"label==@j\" , \n",
    "                          type_ = \"trajectory\", \n",
    "                          volgorde= None,\n",
    "                         features_median = [],\n",
    "                          features_mean= [],\n",
    "                          features_add = [\"dmard_usage\",\"RF\", \"acpa\", \"Sex\"]\n",
    "                         ):\n",
    "    if query == None:\n",
    "        query = 'ilevel_0 in ilevel_0'\n",
    "    print(\"Features\", end =\"\")\n",
    "    for i in volgorde:\n",
    "        print(\" & \", end=\"\")\n",
    "        print(type_,i, end=\"\")\n",
    "    print(\"\\\\\\\\\\\\hline\")\n",
    "\n",
    "    for j in volgorde:\n",
    "\n",
    "        z = (dataset.query(query)\n",
    "                        .groupby(groupby)\n",
    "                        )\n",
    "        print(f\"n= &{z.head(1).count().iloc[1]}&\")\n",
    "        visits = z.count().iloc[:,1]\n",
    "        print(f\"nr of visits (IQR)& {visits.median()} ({float(round(visits.quantile(q=0.25),1))} - {float(round(visits.quantile(q=0.75),1))})&\", end=\"\")\n",
    "    print(\"\\\\\\\\\")\n",
    "    for i in features_median:\n",
    "        print(i,\"$\\space$ (IQR) $\\space\\dagger$ \", end= \"\")\n",
    "        for j in volgorde:\n",
    "            print(\" & \", end=\"\")\n",
    "            z = (dataset.query(query)\n",
    "                        .groupby(groupby)\n",
    "                        .head(1)[i])\n",
    "            print(f\"{float(round(z.median(),1))} ({float(round(z.quantile(q=0.25),1))} - {float(round(z.quantile(q=0.75),1))})\", end=\"\")\n",
    "        print(\"\\\\\\\\\")\n",
    "    for i in features_mean:\n",
    "        print(i,\"$\\space$ (±IQR) $\\space\\dagger$ \", end= \"\")\n",
    "        for j in volgorde:\n",
    "            print(\" & \", end=\"\")\n",
    "            z = (dataset.query(query)\n",
    "                        .groupby(groupby)\n",
    "                        .head(1)[i])\n",
    "            print(f\"{float(round(z.mean(),2))} ({float(round(z.std(),2))})\", end=\"\")\n",
    "        print(\"\\\\\\\\\")\n",
    "    for i in features_add:\n",
    "        print(i,\"(\\\\%)\", end= \"\")\n",
    "        for j in volgorde:\n",
    "            print(\" & \", end=\"\")\n",
    "            z = (dataset.query(query)\n",
    "                        .groupby(groupby)\n",
    "                        .head(1)[i])\n",
    "            print(f\"{int(round(z.sum(),0))} ({round(z.mean()*100, 1)})\", end=\"\")\n",
    "\n",
    "        print(\"\\\\\\\\\")\n",
    "\n"
   ]
  },
  {
   "cell_type": "code",
   "execution_count": 55,
   "id": "793a8551-8366-43bb-bea9-ef8b438d862b",
   "metadata": {},
   "outputs": [
    {
     "name": "stdout",
     "output_type": "stream",
     "text": [
      "Features &  5\\\\\\hline\n",
      "n= &1237&\n",
      "nr of visits (IQR)& 1.0 (1.0 - 1.0)&\\\\\n",
      "TJC_28_o $\\space$ (IQR) $\\space\\dagger$  & 4.0 (2.0 - 8.0)\\\\\n",
      "SJC_28_o $\\space$ (IQR) $\\space\\dagger$  & 3.0 (1.0 - 7.0)\\\\\n",
      "ESR_o $\\space$ (IQR) $\\space\\dagger$  & 28.0 (11.0 - 45.0)\\\\\n",
      "leukocytes_o $\\space$ (IQR) $\\space\\dagger$  & 7.9 (6.3 - 9.6)\\\\\n",
      "hb_corrected_o $\\space$ (IQR) $\\space\\dagger$  & 8.4 (7.8 - 8.9)\\\\\n",
      "thrombocytes_o $\\space$ (IQR) $\\space\\dagger$  & 290.0 (246.0 - 352.0)\\\\\n",
      "MCV_o $\\space$ (IQR) $\\space\\dagger$  & 90.0 (87.0 - 93.0)\\\\\n",
      "das28 $\\space$ (IQR) $\\space\\dagger$  & 4.3 (3.3 - 5.3)\\\\\n",
      "Age $\\space$ (±IQR) $\\space\\dagger$  & 59.82 (14.73)\\\\\n",
      "seropos $\\space$ (±IQR) $\\space\\dagger$  & 0.55 (0.5)\\\\\n",
      "dmard_usage (\\%) & 970 (78.4)\\\\\n",
      "RF positive (\\%) & 570 (46.1)\\\\\n",
      "aCCP positive (\\%) & 571 (46.2)\\\\\n",
      "sex (\\%) & 797 (64.4)\\\\\n"
     ]
    }
   ],
   "source": [
    "\n",
    "baseline_leiden = leiden.sort_values(\"days\").groupby(\"PATNR\").head(1).reset_index()\n",
    "print_latex_table_EHR(baseline_leiden, groupby=\"PATNR\", query=None,type_=\"\", volgorde =[5], features_median= features_o + [\"das28\"], features_mean=  [\"Age\", \"seropos\",], features_add=  [\"dmard_usage\",\"RF positive\", \"aCCP positive\", \"sex\"] )"
   ]
  },
  {
   "cell_type": "code",
   "execution_count": 49,
   "id": "081ef61e-5011-4c65-b003-37d0c3e2537b",
   "metadata": {},
   "outputs": [
    {
     "name": "stdout",
     "output_type": "stream",
     "text": [
      "Features &  5\\\\\\hline\n",
      "n= &1237&\n",
      "nr of visits (IQR)& 1.0 (1.0 - 1.0)&\\\\\n",
      "TJC_28_o $\\space$ (IQR) $\\space\\dagger$  & 1.0 (0.0 - 3.0)\\\\\n",
      "SJC_28_o $\\space$ (IQR) $\\space\\dagger$  & 0.0 (0.0 - 2.0)\\\\\n",
      "ESR_o $\\space$ (IQR) $\\space\\dagger$  & 14.0 (6.0 - 29.0)\\\\\n",
      "leukocytes_o $\\space$ (IQR) $\\space\\dagger$  & 7.2 (6.0 - 8.8)\\\\\n",
      "hb_corrected_o $\\space$ (IQR) $\\space\\dagger$  & 8.5 (8.0 - 9.0)\\\\\n",
      "thrombocytes_o $\\space$ (IQR) $\\space\\dagger$  & 264.0 (225.0 - 314.0)\\\\\n",
      "MCV_o $\\space$ (IQR) $\\space\\dagger$  & 92.0 (89.0 - 96.0)\\\\\n",
      "das28 $\\space$ (IQR) $\\space\\dagger$  & 2.9 (2.1 - 3.9)\\\\\n",
      "Age $\\space$ (±IQR) $\\space\\dagger$  & 59.82 (14.73)\\\\\n",
      "seropos $\\space$ (±IQR) $\\space\\dagger$  & 0.55 (0.5)\\\\\n",
      "dmard_usage (\\%) & 983 (79.5)\\\\\n",
      "RF positive (\\%) & 570 (46.1)\\\\\n",
      "aCCP positive (\\%) & 571 (46.2)\\\\\n",
      "sex (\\%) & 797 (64.4)\\\\\n"
     ]
    }
   ],
   "source": [
    "\n",
    "last_leiden = leiden.sort_values(\"days\").groupby(\"PATNR\").tail(1).reset_index()\n",
    "print_latex_table_EHR(last_leiden, groupby=\"PATNR\", query=None,type_=\"\", volgorde =[5], features_median= features_o + [\"das28\"], features_mean=  [\"Age\", \"seropos\",], features_add=  [\"dmard_usage\",\"RF positive\", \"aCCP positive\", \"sex\"] )"
   ]
  },
  {
   "cell_type": "code",
   "execution_count": 50,
   "id": "84a88ac8-1d0b-4d10-8b3f-557d65d6dac2",
   "metadata": {},
   "outputs": [
    {
     "name": "stdout",
     "output_type": "stream",
     "text": [
      "Features &  5\\\\\\hline\n",
      "n= &243&\n",
      "nr of visits (IQR)& 1.0 (1.0 - 1.0)&\\\\\n",
      "TJC_28 $\\space$ (IQR) $\\space\\dagger$  & 9.0 (4.0 - 14.0)\\\\\n",
      "SJC_28 $\\space$ (IQR) $\\space\\dagger$  & 6.0 (3.0 - 9.5)\\\\\n",
      "ESR $\\space$ (IQR) $\\space\\dagger$  & 27.0 (12.0 - 42.5)\\\\\n",
      "leukocytes $\\space$ (IQR) $\\space\\dagger$  & 7.8 (6.6 - 9.2)\\\\\n",
      "hemoglobin $\\space$ (IQR) $\\space\\dagger$  & 8.5 (7.9 - 8.9)\\\\\n",
      "thrombocytes $\\space$ (IQR) $\\space\\dagger$  & 293.0 (255.0 - 365.0)\\\\\n",
      "das_28_c $\\space$ (IQR) $\\space\\dagger$  & 5.0 (4.1 - 5.8)\\\\\n",
      "Age $\\space$ (±IQR) $\\space\\dagger$  & 52.95 (14.92)\\\\\n",
      "seropos $\\space$ (±IQR) $\\space\\dagger$  & 1.0 (0.0)\\\\\n",
      "dmard_usage (\\%) & 223 (91.8)\\\\\n",
      "RF (\\%) & 223 (91.8)\\\\\n",
      "acpa (\\%) & 207 (85.5)\\\\\n",
      "Sex (\\%) & 177 (72.8)\\\\\n"
     ]
    }
   ],
   "source": [
    "\n",
    "baseline_tacera = tacera.sort_values(\"days\").groupby(\"Subject ID\").head(1).reset_index()\n",
    "print_latex_table_EHR(baseline_tacera, query=None,type_=\"\", volgorde =[5], features_median= tacera_features + [\"das_28_c\"], features_mean=  [\"Age\", \"seropos\",] )"
   ]
  },
  {
   "cell_type": "code",
   "execution_count": 51,
   "id": "3f19f0ae-eb0f-4bb6-acd2-476896db2abf",
   "metadata": {},
   "outputs": [
    {
     "name": "stdout",
     "output_type": "stream",
     "text": [
      "Features &  5\\\\\\hline\n",
      "n= &243&\n",
      "nr of visits (IQR)& 1.0 (1.0 - 1.0)&\\\\\n",
      "TJC_28 $\\space$ (IQR) $\\space\\dagger$  & 2.0 (0.0 - 5.0)\\\\\n",
      "SJC_28 $\\space$ (IQR) $\\space\\dagger$  & 1.0 (0.0 - 3.0)\\\\\n",
      "ESR $\\space$ (IQR) $\\space\\dagger$  & 12.0 (6.0 - 24.0)\\\\\n",
      "leukocytes $\\space$ (IQR) $\\space\\dagger$  & 6.3 (5.1 - 7.8)\\\\\n",
      "hemoglobin $\\space$ (IQR) $\\space\\dagger$  & 8.5 (8.0 - 8.9)\\\\\n",
      "thrombocytes $\\space$ (IQR) $\\space\\dagger$  & 266.5 (225.5 - 312.0)\\\\\n",
      "das_28_c $\\space$ (IQR) $\\space\\dagger$  & 3.0 (2.0 - 3.9)\\\\\n",
      "Age $\\space$ (±IQR) $\\space\\dagger$  & 52.95 (14.92)\\\\\n",
      "seropos $\\space$ (±IQR) $\\space\\dagger$  & 1.0 (0.0)\\\\\n",
      "dmard_usage (\\%) & 229 (94.2)\\\\\n",
      "RF (\\%) & 223 (91.8)\\\\\n",
      "acpa (\\%) & 207 (85.5)\\\\\n",
      "Sex (\\%) & 177 (72.8)\\\\\n"
     ]
    }
   ],
   "source": [
    "\n",
    "last_tacera = tacera.sort_values(\"days\").groupby(\"Subject ID\").tail(1).reset_index()\n",
    "print_latex_table_EHR(last_tacera, query=None,type_=\"\", volgorde =[5], features_median= tacera_features + [\"das_28_c\"], features_mean=  [\"Age\", \"seropos\",] )"
   ]
  },
  {
   "cell_type": "code",
   "execution_count": 59,
   "id": "78cf8f64-76a5-40c0-8d88-ff578a765907",
   "metadata": {},
   "outputs": [
    {
     "name": "stdout",
     "output_type": "stream",
     "text": [
      "TJC_28_o TJC_28\n",
      "5.592562651576395 9.748971193415638\n",
      "5.2427057955384155 6.727176670935341\n",
      "TtestResult(statistic=-9.103598001064311, pvalue=1.217709953586865e-17, df=302.3489370344904)\n",
      "SJC_28_o SJC_28\n",
      "4.518189167340339 6.979423868312757\n",
      "4.757283697084143 5.1373277933944745\n",
      "TtestResult(statistic=-6.908967762174033, pvalue=2.5402578019055688e-11, df=328.57311408707733)\n",
      "ESR_o ESR\n",
      "32.98059822150364 30.650205761316872\n",
      "28.20673268738346 24.041739487000378\n",
      "TtestResult(statistic=1.3405890952334805, pvalue=0.18084426877026538, df=385.0566988450104)\n",
      "leukocytes_o leukocytes\n",
      "8.153257887693018 7.955349794238683\n",
      "2.799441313511057 2.239150744104633\n",
      "TtestResult(statistic=1.2051381724266366, pvalue=0.22885203435496293, df=405.9360571898807)\n",
      "hb_corrected_o hemoglobin\n",
      "8.093303714406295 8.357488888888888\n",
      "1.39163438838891 0.8883589266034493\n",
      "TtestResult(statistic=-3.8079284338560373, pvalue=0.00015724773154494315, df=508.42678021594173)\n",
      "thrombocytes_o thrombocytes\n",
      "307.51131770412286 316.25925925925924\n",
      "95.22221006299776 105.81229807655833\n",
      "TtestResult(statistic=-1.1970558867657677, pvalue=0.23216117378870493, df=323.5208865321718)\n"
     ]
    }
   ],
   "source": [
    "from scipy.stats import ttest_ind\n",
    "for l,t in zip(features_o,tacera_features):\n",
    "    print(l,t)\n",
    "    print(baseline_leiden[l].mean(),baseline_tacera[t].mean() )\n",
    "    print(baseline_leiden[l].std(),baseline_tacera[t].std() )\n",
    "    print(ttest_ind(baseline_leiden[l],baseline_tacera[t], equal_var= False))"
   ]
  },
  {
   "cell_type": "code",
   "execution_count": 62,
   "id": "d9b91e41-ab9e-4f59-8c40-3839ac61d9cb",
   "metadata": {},
   "outputs": [
    {
     "name": "stdout",
     "output_type": "stream",
     "text": [
      "TJC_28_o TJC_28\n",
      "2.5157639450282945 3.5761316872427984\n",
      "3.6873068599599663 5.235504018687619\n",
      "TtestResult(statistic=-3.013774234895384, pvalue=0.002807378103688344, df=290.91793656519434)\n",
      "SJC_28_o SJC_28\n",
      "1.7299919159256265 1.7818930041152263\n",
      "2.8126242942573443 2.717741169222106\n",
      "TtestResult(statistic=-0.2705871789378931, pvalue=0.7868673714106337, df=351.499399382814)\n",
      "ESR_o ESR\n",
      "20.08367016976556 16.512396694214875\n",
      "21.052573083699784 15.434302316851127\n",
      "TtestResult(statistic=3.0820464938083725, pvalue=0.0021858476412679557, df=437.0781486441183)\n",
      "leukocytes_o leukocytes\n",
      "7.630994347959347 6.635637860082305\n",
      "2.4122473129194137 2.1976008482314233\n",
      "TtestResult(statistic=6.34895562356012, pvalue=6.421621996411517e-10, df=366.10049141658675)\n",
      "hb_corrected_o hemoglobin\n",
      "8.46560227591469 8.395797530864199\n",
      "0.8143255546961468 0.8078859822490667\n",
      "TtestResult(statistic=1.2297649435019737, pvalue=0.21962177867628688, df=345.5452021878502)\n",
      "thrombocytes_o thrombocytes\n",
      "275.04648342764756 275.797520661157\n",
      "76.7681915929731 73.74884705512453\n",
      "TtestResult(statistic=-0.14390170288291515, pvalue=0.8856606896253036, df=350.92987192980036)\n"
     ]
    }
   ],
   "source": [
    "from scipy.stats import ttest_ind\n",
    "for l,t in zip(features_o,tacera_features):\n",
    "    print(l,t)\n",
    "    print(last_leiden[l].mean(),last_tacera[t].mean() )\n",
    "    print(last_leiden[l].std(),last_tacera[t].std() )\n",
    "    print(ttest_ind(last_leiden[l].dropna(),last_tacera[t].dropna() , equal_var= False))"
   ]
  },
  {
   "cell_type": "code",
   "execution_count": 61,
   "id": "223cf62e-ac3d-4471-bcb6-9c5e6a344acb",
   "metadata": {},
   "outputs": [
    {
     "name": "stdout",
     "output_type": "stream",
     "text": [
      "das28 das_28_c\n",
      "4.265055320267361 4.954879434450321\n",
      "1.378825918553534 1.2893384295767447\n",
      "TtestResult(statistic=-7.536456491792936, pvalue=3.9644143946518837e-13, df=359.3968958094778)\n",
      "Age Age\n",
      "59.817299919159254 52.95061728395062\n",
      "14.727368952516034 14.920091203414689\n",
      "TtestResult(statistic=6.572788753531747, pvalue=1.8513960167980108e-10, df=341.0572182123902)\n",
      "sex Sex\n",
      "0.6443007275666937 0.7283950617283951\n",
      "0.4789182796169422 0.44570528228101364\n",
      "TtestResult(statistic=-2.6554203953180577, pvalue=0.008272366298187114, df=360.5937264754427)\n",
      "RF positive RF\n",
      "0.46079223928860147 0.9176954732510288\n",
      "0.49866198285372243 0.27539535416402067\n",
      "TtestResult(statistic=-20.170193185005136, pvalue=1.3904884050571325e-69, df=604.9837035158826)\n",
      "aCCP positive acpa\n",
      "0.46160064672594986 0.8553719008264463\n",
      "0.4987249362832971 0.3524544438289793\n",
      "TtestResult(statistic=nan, pvalue=nan, df=nan)\n",
      "dmard_usage dmard_usage\n",
      "0.7841552142279709 0.9176954732510288\n",
      "0.4115735081222808 0.27539535416402067\n",
      "TtestResult(statistic=-6.301818822017066, pvalue=6.636849472226809e-10, df=482.74611784069594)\n"
     ]
    }
   ],
   "source": [
    "for l,t in zip([\"das28\",\"Age\",\"sex\",\"RF positive\", \"aCCP positive\",\"dmard_usage\"] # leiden\n",
    "               ,[\"das_28_c\",\"Age\", \"Sex\", \"RF\", \"acpa\",\"dmard_usage\"] # tacera\n",
    "              ):\n",
    "    print(l,t)\n",
    "    print(baseline_leiden[l].mean(),baseline_tacera[t].mean() )\n",
    "    print(baseline_leiden[l].std(),baseline_tacera[t].std() )\n",
    "    print(ttest_ind(baseline_leiden[l],baseline_tacera[t] , equal_var= False))"
   ]
  },
  {
   "cell_type": "code",
   "execution_count": 66,
   "id": "4009b4bf-2825-4a0a-a5a7-2e67a7b613ac",
   "metadata": {},
   "outputs": [
    {
     "name": "stdout",
     "output_type": "stream",
     "text": [
      "das28 das_28_c\n",
      "3.005904454901346 3.0485070151654954\n",
      "1.2888788757154184 1.3512128915465236\n",
      "TtestResult(statistic=-0.4519046209331777, pvalue=0.6516324486335539, df=332.37896780743426)\n",
      "dmard_usage dmard_usage\n",
      "0.7946645109135004 0.9423868312757202\n",
      "0.40410993907305565 0.23349142690351257\n",
      "TtestResult(statistic=-7.825182442225053, pvalue=2.4645133863279285e-14, df=571.8257528705241)\n",
      "Age Age\n",
      "59.817299919159254 52.95061728395062\n",
      "14.72736895251602 14.920091203414692\n",
      "TtestResult(statistic=6.572788753531747, pvalue=1.8513960167980108e-10, df=341.0572182123903)\n",
      "sex Sex\n",
      "0.6443007275666937 0.7283950617283951\n",
      "0.47891827961694244 0.44570528228101325\n",
      "TtestResult(statistic=-2.6554203953180577, pvalue=0.008272366298187114, df=360.59372647544274)\n",
      "RF positive RF\n",
      "0.46079223928860147 0.9176954732510288\n",
      "0.49866198285372243 0.27539535416402067\n",
      "TtestResult(statistic=-20.170193185005136, pvalue=1.3904884050571325e-69, df=604.9837035158826)\n",
      "aCCP positive acpa\n",
      "0.46160064672594986 0.8553719008264463\n",
      "0.4987249362832971 0.3524544438289793\n"
     ]
    },
    {
     "ename": "ValueError",
     "evalue": "data type <class 'numpy.object_'> not inexact",
     "output_type": "error",
     "traceback": [
      "\u001b[0;31m---------------------------------------------------------------------------\u001b[0m",
      "\u001b[0;31mValueError\u001b[0m                                Traceback (most recent call last)",
      "Cell \u001b[0;32mIn[66], line 7\u001b[0m\n\u001b[1;32m      5\u001b[0m \u001b[38;5;28mprint\u001b[39m(last_leiden[l]\u001b[38;5;241m.\u001b[39mmean(),last_tacera[t]\u001b[38;5;241m.\u001b[39mmean() )\n\u001b[1;32m      6\u001b[0m \u001b[38;5;28mprint\u001b[39m(last_leiden[l]\u001b[38;5;241m.\u001b[39mstd(),last_tacera[t]\u001b[38;5;241m.\u001b[39mstd() )\n\u001b[0;32m----> 7\u001b[0m \u001b[38;5;28mprint\u001b[39m(ttest_ind(last_leiden[l]\u001b[38;5;241m.\u001b[39mdropna(),last_tacera[t]\u001b[38;5;241m.\u001b[39mdropna(), equal_var\u001b[38;5;241m=\u001b[39m \u001b[38;5;28;01mFalse\u001b[39;00m))\n",
      "File \u001b[0;32m/exports/reum/nsteinz/trajectories/lib/python3.11/site-packages/scipy/stats/_axis_nan_policy.py:523\u001b[0m, in \u001b[0;36m_axis_nan_policy_factory.<locals>.axis_nan_policy_decorator.<locals>.axis_nan_policy_wrapper\u001b[0;34m(***failed resolving arguments***)\u001b[0m\n\u001b[1;32m    521\u001b[0m \u001b[38;5;28;01mif\u001b[39;00m sentinel:\n\u001b[1;32m    522\u001b[0m     samples \u001b[38;5;241m=\u001b[39m _remove_sentinel(samples, paired, sentinel)\n\u001b[0;32m--> 523\u001b[0m res \u001b[38;5;241m=\u001b[39m hypotest_fun_out(\u001b[38;5;241m*\u001b[39msamples, \u001b[38;5;241m*\u001b[39m\u001b[38;5;241m*\u001b[39mkwds)\n\u001b[1;32m    524\u001b[0m res \u001b[38;5;241m=\u001b[39m result_to_tuple(res)\n\u001b[1;32m    525\u001b[0m res \u001b[38;5;241m=\u001b[39m _add_reduced_axes(res, reduced_axes, keepdims)\n",
      "File \u001b[0;32m/exports/reum/nsteinz/trajectories/lib/python3.11/site-packages/scipy/stats/_stats_py.py:7457\u001b[0m, in \u001b[0;36mttest_ind\u001b[0;34m(a, b, axis, equal_var, nan_policy, permutations, random_state, alternative, trim)\u001b[0m\n\u001b[1;32m   7455\u001b[0m     np\u001b[38;5;241m.\u001b[39mseterr(divide\u001b[38;5;241m=\u001b[39m\u001b[38;5;124m'\u001b[39m\u001b[38;5;124mignore\u001b[39m\u001b[38;5;124m'\u001b[39m, invalid\u001b[38;5;241m=\u001b[39m\u001b[38;5;124m'\u001b[39m\u001b[38;5;124mignore\u001b[39m\u001b[38;5;124m'\u001b[39m)\n\u001b[1;32m   7456\u001b[0m v1 \u001b[38;5;241m=\u001b[39m _var(a, axis, ddof\u001b[38;5;241m=\u001b[39m\u001b[38;5;241m1\u001b[39m)\n\u001b[0;32m-> 7457\u001b[0m v2 \u001b[38;5;241m=\u001b[39m _var(b, axis, ddof\u001b[38;5;241m=\u001b[39m\u001b[38;5;241m1\u001b[39m)\n\u001b[1;32m   7458\u001b[0m \u001b[38;5;28;01mif\u001b[39;00m equal_var:\n\u001b[1;32m   7459\u001b[0m     np\u001b[38;5;241m.\u001b[39mseterr(\u001b[38;5;241m*\u001b[39m\u001b[38;5;241m*\u001b[39mold_errstate)\n",
      "File \u001b[0;32m/exports/reum/nsteinz/trajectories/lib/python3.11/site-packages/scipy/stats/_stats_py.py:1100\u001b[0m, in \u001b[0;36m_var\u001b[0;34m(x, axis, ddof, mean)\u001b[0m\n\u001b[1;32m   1098\u001b[0m \u001b[38;5;28;01mdef\u001b[39;00m \u001b[38;5;21m_var\u001b[39m(x, axis\u001b[38;5;241m=\u001b[39m\u001b[38;5;241m0\u001b[39m, ddof\u001b[38;5;241m=\u001b[39m\u001b[38;5;241m0\u001b[39m, mean\u001b[38;5;241m=\u001b[39m\u001b[38;5;28;01mNone\u001b[39;00m):\n\u001b[1;32m   1099\u001b[0m     \u001b[38;5;66;03m# Calculate variance of sample, warning if precision is lost\u001b[39;00m\n\u001b[0;32m-> 1100\u001b[0m     var \u001b[38;5;241m=\u001b[39m _moment(x, \u001b[38;5;241m2\u001b[39m, axis, mean\u001b[38;5;241m=\u001b[39mmean)\n\u001b[1;32m   1101\u001b[0m     \u001b[38;5;28;01mif\u001b[39;00m ddof \u001b[38;5;241m!=\u001b[39m \u001b[38;5;241m0\u001b[39m:\n\u001b[1;32m   1102\u001b[0m         n \u001b[38;5;241m=\u001b[39m x\u001b[38;5;241m.\u001b[39mshape[axis] \u001b[38;5;28;01mif\u001b[39;00m axis \u001b[38;5;129;01mis\u001b[39;00m \u001b[38;5;129;01mnot\u001b[39;00m \u001b[38;5;28;01mNone\u001b[39;00m \u001b[38;5;28;01melse\u001b[39;00m x\u001b[38;5;241m.\u001b[39msize\n",
      "File \u001b[0;32m/exports/reum/nsteinz/trajectories/lib/python3.11/site-packages/scipy/stats/_stats_py.py:1072\u001b[0m, in \u001b[0;36m_moment\u001b[0;34m(a, moment, axis, mean)\u001b[0m\n\u001b[1;32m   1068\u001b[0m mean \u001b[38;5;241m=\u001b[39m (a\u001b[38;5;241m.\u001b[39mmean(axis, keepdims\u001b[38;5;241m=\u001b[39m\u001b[38;5;28;01mTrue\u001b[39;00m) \u001b[38;5;28;01mif\u001b[39;00m mean \u001b[38;5;129;01mis\u001b[39;00m \u001b[38;5;28;01mNone\u001b[39;00m\n\u001b[1;32m   1069\u001b[0m         \u001b[38;5;28;01melse\u001b[39;00m np\u001b[38;5;241m.\u001b[39masarray(mean, dtype\u001b[38;5;241m=\u001b[39mdtype)[()])\n\u001b[1;32m   1070\u001b[0m a_zero_mean \u001b[38;5;241m=\u001b[39m a \u001b[38;5;241m-\u001b[39m mean\n\u001b[0;32m-> 1072\u001b[0m eps \u001b[38;5;241m=\u001b[39m np\u001b[38;5;241m.\u001b[39mfinfo(a_zero_mean\u001b[38;5;241m.\u001b[39mdtype)\u001b[38;5;241m.\u001b[39mresolution \u001b[38;5;241m*\u001b[39m \u001b[38;5;241m10\u001b[39m\n\u001b[1;32m   1073\u001b[0m \u001b[38;5;28;01mwith\u001b[39;00m np\u001b[38;5;241m.\u001b[39merrstate(divide\u001b[38;5;241m=\u001b[39m\u001b[38;5;124m'\u001b[39m\u001b[38;5;124mignore\u001b[39m\u001b[38;5;124m'\u001b[39m, invalid\u001b[38;5;241m=\u001b[39m\u001b[38;5;124m'\u001b[39m\u001b[38;5;124mignore\u001b[39m\u001b[38;5;124m'\u001b[39m):\n\u001b[1;32m   1074\u001b[0m     rel_diff \u001b[38;5;241m=\u001b[39m np\u001b[38;5;241m.\u001b[39mmax(np\u001b[38;5;241m.\u001b[39mabs(a_zero_mean), axis\u001b[38;5;241m=\u001b[39maxis,\n\u001b[1;32m   1075\u001b[0m                       keepdims\u001b[38;5;241m=\u001b[39m\u001b[38;5;28;01mTrue\u001b[39;00m) \u001b[38;5;241m/\u001b[39m np\u001b[38;5;241m.\u001b[39mabs(mean)\n",
      "File \u001b[0;32m/exports/reum/nsteinz/trajectories/lib/python3.11/site-packages/numpy/core/getlimits.py:516\u001b[0m, in \u001b[0;36mfinfo.__new__\u001b[0;34m(cls, dtype)\u001b[0m\n\u001b[1;32m    514\u001b[0m     dtype \u001b[38;5;241m=\u001b[39m newdtype\n\u001b[1;32m    515\u001b[0m \u001b[38;5;28;01mif\u001b[39;00m \u001b[38;5;129;01mnot\u001b[39;00m \u001b[38;5;28missubclass\u001b[39m(dtype, numeric\u001b[38;5;241m.\u001b[39minexact):\n\u001b[0;32m--> 516\u001b[0m     \u001b[38;5;28;01mraise\u001b[39;00m \u001b[38;5;167;01mValueError\u001b[39;00m(\u001b[38;5;124m\"\u001b[39m\u001b[38;5;124mdata type \u001b[39m\u001b[38;5;132;01m%r\u001b[39;00m\u001b[38;5;124m not inexact\u001b[39m\u001b[38;5;124m\"\u001b[39m \u001b[38;5;241m%\u001b[39m (dtype))\n\u001b[1;32m    517\u001b[0m obj \u001b[38;5;241m=\u001b[39m \u001b[38;5;28mcls\u001b[39m\u001b[38;5;241m.\u001b[39m_finfo_cache\u001b[38;5;241m.\u001b[39mget(dtype)\n\u001b[1;32m    518\u001b[0m \u001b[38;5;28;01mif\u001b[39;00m obj \u001b[38;5;129;01mis\u001b[39;00m \u001b[38;5;129;01mnot\u001b[39;00m \u001b[38;5;28;01mNone\u001b[39;00m:\n",
      "\u001b[0;31mValueError\u001b[0m: data type <class 'numpy.object_'> not inexact"
     ]
    }
   ],
   "source": [
    "for l,t in zip([\"das28\",\"dmard_usage\",\"Age\",\"sex\",\"RF positive\", \"aCCP positive\"] # leiden\n",
    "               ,[\"das_28_c\",\"dmard_usage\",\"Age\", \"Sex\", \"RF\", \"acpa\"] # tacera\n",
    "              ):\n",
    "    print(l,t)\n",
    "    print(last_leiden[l].mean(),last_tacera[t].mean() )\n",
    "    print(last_leiden[l].std(),last_tacera[t].std() )\n",
    "    print(ttest_ind(last_leiden[l].dropna(),last_tacera[t].dropna(), equal_var= False))"
   ]
  },
  {
   "cell_type": "code",
   "execution_count": 101,
   "id": "a13c3f57-9c92-4765-a98c-164df56fa0f7",
   "metadata": {},
   "outputs": [],
   "source": [
    "\n",
    "def print_latex_table_EHR(dataset, \n",
    "                          groupby=\"Subject ID\",\n",
    "                          query = \"label==@j\" , \n",
    "                          type_ = \"trajectory\", \n",
    "                          volgorde= None,\n",
    "                         features_median = [],\n",
    "                          features_mean= [],\n",
    "                          features_add = [\"dmard_usage\",\"RF\", \"acpa\", \"Sex\"]\n",
    "                         ):\n",
    "    if query == None:\n",
    "        query = 'ilevel_0 in ilevel_0'\n",
    "    print(\"Features\", end =\"\")\n",
    "    for i in volgorde:\n",
    "        print(\" & \", end=\"\")\n",
    "        print(type_,i, end=\"\")\n",
    "    print(\"\\\\\\\\\\\\hline\")\n",
    "    print(f\"nr of visits (IQR)&\"  , end=\"\")\n",
    "    for j in volgorde:\n",
    "        \n",
    "        z = (dataset.query(query)\n",
    "                        .groupby(groupby)\n",
    "                        )\n",
    "        #print(f\"n= &{z.head(1).count().iloc[1]}&\")\n",
    "        visits = z.count().iloc[:,1]\n",
    "        print(f\"{int(visits.median())} & \" # ({float(round(visits.quantile(q=0.25),1))} - {float(round(visits.quantile(q=0.75),1))})& \"\n",
    "              , end=\"\")\n",
    "    print(\"\\\\\\\\\")\n",
    "    for i in features_median:\n",
    "        print(i,\"$\\space$ (IQR) $\\space\\dagger$ \", end= \"\")\n",
    "        for j in volgorde:\n",
    "            print(\" & \", end=\"\")\n",
    "            z = (dataset.query(query)\n",
    "                        .groupby(groupby)\n",
    "                         [i])\n",
    "            print(f\"{float(round(z.median(),1))} ({float(round(z.quantile(q=0.25),1))} - {float(round(z.quantile(q=0.75),1))})\", end=\"\")\n",
    "        print(\"\\\\\\\\\")\n",
    "    for i in features_mean:\n",
    "        print(i,\"$\\space$ (±IQR) $\\space\\dagger$ \", end= \"\")\n",
    "        for j in volgorde:\n",
    "            print(\" & \", end=\"\")\n",
    "            z = (dataset.query(query)\n",
    "                        .groupby(groupby)\n",
    "                        [i])\n",
    "            print(f\"{float(round(z.mean(),2))} ({float(round(z.std(),2))})\", end=\"\")\n",
    "        print(\"\\\\\\\\\")\n",
    "    for i in features_add:\n",
    "        print(i,\"(\\\\%)\", end= \"\")\n",
    "        for j in volgorde:\n",
    "            print(\" & \", end=\"\")\n",
    "            z = (dataset.query(query)\n",
    "                        .groupby(groupby)\n",
    "                         [i])\n",
    "            print(f\"{int(round(z.sum(),0))} ({round(float(z.mean()*100), 1)})\", end=\"\")\n",
    "\n",
    "        print(\"\\\\\\\\\")\n",
    "\n"
   ]
  },
  {
   "cell_type": "code",
   "execution_count": 90,
   "id": "4115c1fe-1595-43a1-b3c5-f5e195e3830a",
   "metadata": {},
   "outputs": [
    {
     "data": {
      "text/html": [
       "<div>\n",
       "<style scoped>\n",
       "    .dataframe tbody tr th:only-of-type {\n",
       "        vertical-align: middle;\n",
       "    }\n",
       "\n",
       "    .dataframe tbody tr th {\n",
       "        vertical-align: top;\n",
       "    }\n",
       "\n",
       "    .dataframe thead th {\n",
       "        text-align: right;\n",
       "    }\n",
       "</style>\n",
       "<table border=\"1\" class=\"dataframe\">\n",
       "  <thead>\n",
       "    <tr style=\"text-align: right;\">\n",
       "      <th></th>\n",
       "      <th>TJC_28</th>\n",
       "      <th>SJC_28</th>\n",
       "      <th>ESR</th>\n",
       "      <th>leukocytes</th>\n",
       "      <th>hb_corrected</th>\n",
       "      <th>MCV</th>\n",
       "      <th>thrombocytes</th>\n",
       "      <th>TJC_28_o</th>\n",
       "      <th>SJC_28_o</th>\n",
       "      <th>ESR_o</th>\n",
       "      <th>...</th>\n",
       "      <th>from_clust</th>\n",
       "      <th>global_trajectory_o</th>\n",
       "      <th>global_trajectory</th>\n",
       "      <th>communi_x</th>\n",
       "      <th>communi_y</th>\n",
       "      <th>communi_x.1</th>\n",
       "      <th>communi_y.1</th>\n",
       "      <th>communi</th>\n",
       "      <th>L2</th>\n",
       "      <th>L1</th>\n",
       "    </tr>\n",
       "    <tr>\n",
       "      <th>label</th>\n",
       "      <th></th>\n",
       "      <th></th>\n",
       "      <th></th>\n",
       "      <th></th>\n",
       "      <th></th>\n",
       "      <th></th>\n",
       "      <th></th>\n",
       "      <th></th>\n",
       "      <th></th>\n",
       "      <th></th>\n",
       "      <th></th>\n",
       "      <th></th>\n",
       "      <th></th>\n",
       "      <th></th>\n",
       "      <th></th>\n",
       "      <th></th>\n",
       "      <th></th>\n",
       "      <th></th>\n",
       "      <th></th>\n",
       "      <th></th>\n",
       "      <th></th>\n",
       "    </tr>\n",
       "  </thead>\n",
       "  <tbody>\n",
       "    <tr>\n",
       "      <th>8</th>\n",
       "      <td>70</td>\n",
       "      <td>70</td>\n",
       "      <td>70</td>\n",
       "      <td>70</td>\n",
       "      <td>70</td>\n",
       "      <td>70</td>\n",
       "      <td>70</td>\n",
       "      <td>70</td>\n",
       "      <td>70</td>\n",
       "      <td>70</td>\n",
       "      <td>...</td>\n",
       "      <td>70</td>\n",
       "      <td>70</td>\n",
       "      <td>70</td>\n",
       "      <td>70</td>\n",
       "      <td>70</td>\n",
       "      <td>70</td>\n",
       "      <td>70</td>\n",
       "      <td>70</td>\n",
       "      <td>70</td>\n",
       "      <td>70</td>\n",
       "    </tr>\n",
       "  </tbody>\n",
       "</table>\n",
       "<p>1 rows × 88 columns</p>\n",
       "</div>"
      ],
      "text/plain": [
       "       TJC_28  SJC_28  ESR  leukocytes  hb_corrected  MCV  thrombocytes  \\\n",
       "label                                                                     \n",
       "8          70      70   70          70            70   70            70   \n",
       "\n",
       "       TJC_28_o  SJC_28_o  ESR_o  ...  from_clust  global_trajectory_o  \\\n",
       "label                             ...                                    \n",
       "8            70        70     70  ...          70                   70   \n",
       "\n",
       "       global_trajectory  communi_x  communi_y  communi_x.1  communi_y.1  \\\n",
       "label                                                                      \n",
       "8                     70         70         70           70           70   \n",
       "\n",
       "       communi  L2  L1  \n",
       "label                   \n",
       "8           70  70  70  \n",
       "\n",
       "[1 rows x 88 columns]"
      ]
     },
     "execution_count": 90,
     "metadata": {},
     "output_type": "execute_result"
    }
   ],
   "source": [
    "(leiden.query(\"label == 8\" )\n",
    "                        .groupby(\"label\")\n",
    "                        ).count()"
   ]
  },
  {
   "cell_type": "code",
   "execution_count": 102,
   "id": "bdba6358-34cf-4f1e-99d2-587097914eea",
   "metadata": {},
   "outputs": [
    {
     "name": "stdout",
     "output_type": "stream",
     "text": [
      "Features & label 8 & label 7 & label 6 & label 5\\\\\\hline\n",
      "nr of visits (IQR)&70 & 589 & 523 & 485 & \\\\\n",
      "TJC_28_o $\\space$ (IQR) $\\space\\dagger$  & 2.5 (1.0 - 5.0) & 11.0 (8.0 - 14.0) & 4.0 (2.0 - 7.0) & 5.0 (3.0 - 6.0)\\\\\n",
      "SJC_28_o $\\space$ (IQR) $\\space\\dagger$  & 2.0 (1.0 - 3.0) & 10.0 (8.0 - 13.0) & 3.0 (1.0 - 7.0) & 4.0 (3.0 - 5.0)\\\\\n",
      "ESR_o $\\space$ (IQR) $\\space\\dagger$  & 17.0 (9.0 - 32.5) & 29.0 (14.0 - 45.0) & 75.0 (63.0 - 100.5) & 34.0 (29.0 - 40.0)\\\\\n",
      "leukocytes_o $\\space$ (IQR) $\\space\\dagger$  & 3.7 (3.1 - 4.4) & 8.5 (6.8 - 10.4) & 9.5 (7.6 - 11.6) & 8.4 (7.2 - 9.9)\\\\\n",
      "hb_corrected_o $\\space$ (IQR) $\\space\\dagger$  & 4.6 (4.2 - 4.8) & 8.2 (7.6 - 8.7) & 7.4 (6.8 - 7.9) & 8.3 (7.9 - 8.7)\\\\\n",
      "thrombocytes_o $\\space$ (IQR) $\\space\\dagger$  & 265.5 (236.2 - 290.5) & 312.0 (258.0 - 373.0) & 381.0 (298.5 - 462.0) & 312.0 (272.0 - 358.0)\\\\\n",
      "MCV_o $\\space$ (IQR) $\\space\\dagger$  & 91.0 (89.0 - 93.0) & 89.0 (86.0 - 92.5) & 89.0 (85.0 - 93.0) & 90.0 (87.0 - 94.0)\\\\\n",
      "das28 $\\space$ (IQR) $\\space\\dagger$  & 3.7 (2.9 - 4.3) & 5.6 (5.0 - 6.1) & 5.1 (4.5 - 5.8) & 4.7 (4.4 - 4.9)\\\\\n",
      "Age $\\space$ (±IQR) $\\space\\dagger$  & 55.3 (14.52) & 62.34 (13.09) & 63.2 (13.74) & 60.83 (13.81)\\\\\n",
      "seropos $\\space$ (±IQR) $\\space\\dagger$  & 0.61 (0.49) & 0.48 (0.5) & 0.64 (0.48) & 0.64 (0.48)\\\\\n",
      "dmard_usage (\\%) & 50 (71.4) & 482 (81.8) & 415 (79.3) & 398 (82.1)\\\\\n",
      "RF positive (\\%) & 41 (58.6) & 247 (41.9) & 298 (57.0) & 274 (56.5)\\\\\n",
      "aCCP positive (\\%) & 26 (37.1) & 212 (36.0) & 281 (53.7) & 258 (53.2)\\\\\n",
      "sex (\\%) & 50 (71.4) & 362 (61.5) & 342 (65.4) & 352 (72.6)\\\\\n"
     ]
    }
   ],
   "source": [
    "\n",
    "\n",
    "print_latex_table_EHR(leiden, groupby=\"label\", query='label == @j',type_=\"label\", volgorde =[8,7,6,5,], features_median= features_o + [\"das28\"], features_mean=  [\"Age\", \"seropos\",], features_add=  [\"dmard_usage\",\"RF positive\", \"aCCP positive\", \"sex\"] )"
   ]
  },
  {
   "cell_type": "code",
   "execution_count": 103,
   "id": "953be38d-6be6-4277-9622-a258e67f5824",
   "metadata": {},
   "outputs": [
    {
     "name": "stdout",
     "output_type": "stream",
     "text": [
      "Features & label 4 & label 3 & label 2 & label 1\\\\\\hline\n",
      "nr of visits (IQR)&967 & 674 & 654 & 1055 & \\\\\n",
      "TJC_28_o $\\space$ (IQR) $\\space\\dagger$  & 4.0 (3.0 - 7.0) & 1.0 (0.0 - 2.0) & 1.0 (0.0 - 2.0) & 1.0 (0.0 - 1.0)\\\\\n",
      "SJC_28_o $\\space$ (IQR) $\\space\\dagger$  & 3.0 (1.0 - 4.0) & 0.0 (0.0 - 1.0) & 0.5 (0.0 - 1.0) & 0.0 (0.0 - 1.0)\\\\\n",
      "ESR_o $\\space$ (IQR) $\\space\\dagger$  & 9.0 (6.0 - 14.0) & 11.0 (6.0 - 19.0) & 33.0 (28.0 - 41.0) & 6.0 (2.0 - 11.0)\\\\\n",
      "leukocytes_o $\\space$ (IQR) $\\space\\dagger$  & 7.1 (6.1 - 8.3) & 10.3 (9.2 - 12.4) & 7.6 (6.4 - 9.0) & 6.2 (5.2 - 7.2)\\\\\n",
      "hb_corrected_o $\\space$ (IQR) $\\space\\dagger$  & 8.7 (8.3 - 9.2) & 8.7 (8.2 - 9.1) & 8.4 (7.9 - 8.7) & 8.7 (8.3 - 9.1)\\\\\n",
      "thrombocytes_o $\\space$ (IQR) $\\space\\dagger$  & 259.0 (227.0 - 297.0) & 303.0 (259.2 - 348.0) & 282.0 (240.0 - 334.0) & 241.0 (209.0 - 278.0)\\\\\n",
      "MCV_o $\\space$ (IQR) $\\space\\dagger$  & 92.0 (88.0 - 95.0) & 92.0 (88.1 - 95.0) & 92.0 (89.0 - 95.0) & 93.0 (90.0 - 96.0)\\\\\n",
      "das28 $\\space$ (IQR) $\\space\\dagger$  & 3.5 (3.0 - 4.0) & 2.7 (2.0 - 3.4) & 3.6 (3.1 - 4.0) & 2.0 (1.5 - 2.4)\\\\\n",
      "Age $\\space$ (±IQR) $\\space\\dagger$  & 56.55 (13.96) & 56.89 (15.96) & 60.64 (14.05) & 56.65 (14.18)\\\\\n",
      "seropos $\\space$ (±IQR) $\\space\\dagger$  & 0.48 (0.5) & 0.62 (0.49) & 0.68 (0.47) & 0.6 (0.49)\\\\\n",
      "dmard_usage (\\%) & 788 (81.5) & 534 (79.2) & 511 (78.1) & 825 (78.2)\\\\\n",
      "RF positive (\\%) & 385 (39.8) & 350 (51.9) & 382 (58.4) & 521 (49.4)\\\\\n",
      "aCCP positive (\\%) & 380 (39.3) & 372 (55.2) & 391 (59.8) & 530 (50.2)\\\\\n",
      "sex (\\%) & 637 (65.9) & 433 (64.2) & 489 (74.8) & 623 (59.1)\\\\\n"
     ]
    }
   ],
   "source": [
    "\n",
    "\n",
    "print_latex_table_EHR(leiden, groupby=\"label\", query='label == @j',type_=\"label\", volgorde =[4,3,2,1], features_median= features_o + [\"das28\"], features_mean=  [\"Age\", \"seropos\",], features_add=  [\"dmard_usage\",\"RF positive\", \"aCCP positive\", \"sex\"] )"
   ]
  }
 ],
 "metadata": {
  "kernelspec": {
   "display_name": "lumc (trajectories)",
   "language": "python",
   "name": "lumc_traj"
  },
  "language_info": {
   "codemirror_mode": {
    "name": "ipython",
    "version": 3
   },
   "file_extension": ".py",
   "mimetype": "text/x-python",
   "name": "python",
   "nbconvert_exporter": "python",
   "pygments_lexer": "ipython3",
   "version": "3.11.9"
  }
 },
 "nbformat": 4,
 "nbformat_minor": 5
}
