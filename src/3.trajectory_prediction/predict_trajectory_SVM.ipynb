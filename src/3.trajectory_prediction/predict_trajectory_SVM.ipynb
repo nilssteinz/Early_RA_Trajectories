{
 "cells": [
  {
   "cell_type": "code",
   "execution_count": 36,
   "id": "c9c6bd1e",
   "metadata": {},
   "outputs": [],
   "source": [
    "import __init__\n",
    "import os\n",
    "\n",
    "import pandas as pd\n",
    "import numpy as np\n",
    "import scipy as sp\n",
    "import sklearn\n",
    "from matplotlib import pyplot as plt\n",
    "\n",
    "from sklearn.neighbors import NearestNeighbors, KDTree, kneighbors_graph\n",
    "from sklearn.metrics import pairwise_distances\n",
    "from sklearn.decomposition import PCA\n",
    "from sklearn.preprocessing import StandardScaler, MinMaxScaler,PowerTransformer\n",
    "import sklearn.preprocessing as preprocessing\n",
    "from sklearn.manifold import TSNE\n",
    "\n",
    "from sklearn.model_selection import StratifiedShuffleSplit, train_test_split\n",
    "from sklearn.ensemble import RandomForestClassifier\n",
    "from sklearn import svm\n",
    "\n",
    "from repeated_CV_builder import DCV\n",
    "\n",
    "from sklearn.metrics import PrecisionRecallDisplay, RocCurveDisplay\n",
    "from sklearn.metrics import (\n",
    "    accuracy_score,\n",
    "    precision_score,\n",
    "    recall_score,\n",
    "    f1_score,\n",
    "    brier_score_loss,\n",
    "    log_loss,\n",
    "    roc_auc_score,\n",
    "    RocCurveDisplay,\n",
    "    PrecisionRecallDisplay\n",
    "    \n",
    ")\n",
    "from sklearn.metrics import classification_report, multilabel_confusion_matrix, precision_recall_fscore_support\n",
    "from collections import defaultdict\n",
    "from sklearn.metrics import ConfusionMatrixDisplay"
   ]
  },
  {
   "cell_type": "code",
   "execution_count": 37,
   "id": "ae0f5e9d",
   "metadata": {},
   "outputs": [
    {
     "name": "stdout",
     "output_type": "stream",
     "text": [
      "/exports/reum/nsteinz/Project_trajectories\n",
      "/exports/reum/nsteinz/Project_trajectories/raw_data/\n",
      "/exports/reum/nsteinz/Project_trajectories/trajectories/data/\n",
      "/exports/reum/nsteinz/Project_trajectories/trajectories/output\n"
     ]
    }
   ],
   "source": [
    "subproject_name = \"trajectories\"\n",
    "\n",
    "wd = \"../../../\"\n",
    "project_path = os.path.realpath(wd)\n",
    "print(project_path)\n",
    "\n",
    "raw_data_dir = project_path+\"/raw_data/\"\n",
    "print(raw_data_dir)\n",
    "\n",
    "\n",
    "data_dir = project_path+f\"/{subproject_name}\"+\"/data/\"\n",
    "print(data_dir)\n",
    "\n",
    "results_dir = project_path+f\"/{subproject_name}\"+\"/output\"\n",
    "print(results_dir)\n"
   ]
  },
  {
   "cell_type": "code",
   "execution_count": 38,
   "id": "af9f64aa",
   "metadata": {},
   "outputs": [
    {
     "data": {
      "text/plain": [
       "['TJC_28_o',\n",
       " 'SJC_28_o',\n",
       " 'ESR_o',\n",
       " 'leukocytes_o',\n",
       " 'hb_corrected_o',\n",
       " 'thrombocytes_o']"
      ]
     },
     "execution_count": 38,
     "metadata": {},
     "output_type": "execute_result"
    }
   ],
   "source": [
    "features = [#'total Pijn',\n",
    "            'TJC_28',\n",
    "            #'TJC_44',\n",
    "            #'total Zwelling',\n",
    "            'SJC_28',\n",
    "            #'SJC_44',\n",
    "            #'Alkalische Fosfatase',\n",
    "            #'Anti-CCP Kwant.',\n",
    "            'ESR',\n",
    "            #'C-Reaktief Proteïne',\n",
    "            'leukocytes',\n",
    "            #'Hematocriet',\n",
    "            #'hemoglobin',\n",
    "            \"hb_corrected\",\n",
    "            #'IgM reumafactor',\n",
    "                #'Anti-CCP',\n",
    "            #'MCH',\n",
    "            #'MCHC',\n",
    "            #'MCV',\n",
    "            'thrombocytes',\n",
    "            #'Ferritine',\n",
    "            #\"Sex\",\n",
    "            \n",
    "           ]\n",
    "\n",
    "\n",
    "dmards = ['ABATACEPT',\n",
    "       'ADALIMUMAB', 'ANAKINRA', 'SODIUM_AUROTHIOMALATE', 'AZATHIOPRINE',\n",
    "       'BARICITINIB', 'CERTOLIZUMAB_PEGOL', 'CICLOSPORINE', 'CYCLOPHOSPHAMIDE',\n",
    "       'ETANERCEPT', 'GOLIMUMAB', 'HYDROXYCHLOROQUINE', 'INFLIXIMAB',\n",
    "       'LEFLUNOMIDE', 'METHOTREXATE', 'METHYLPREDNISOLONE', 'PREDNISOLONE',\n",
    "       'SULFASALAZINE', 'TOCILIZUMAB', 'TOFACITINIB']\n",
    "dmard_types = {\n",
    "    \"TNF_b_dmards\" : ['ETANERCEPT', 'GOLIMUMAB','INFLIXIMAB','CERTOLIZUMAB_PEGOL', 'ADALIMUMAB'],\n",
    "    \"IL6_b_dmards\" : ['CERTOLIZUMAB_PEGOL', 'TOCILIZUMAB'],\n",
    "    \"IL1_b_dmards\" : ['ANAKINRA'],\n",
    "    \"tcell_b_dmards\" : ['ABATACEPT'],\n",
    "    \"cs_dmards\" : [\"METHOTREXATE\",'HYDROXYCHLOROQUINE','LEFLUNOMIDE', 'SULFASALAZINE'],\n",
    "    \"jak_dmard\" : ['TOFACITINIB', 'BARICITINIB'],\n",
    "    \"XO_damrd\" : ['AZATHIOPRINE'],\n",
    "    \"OP_dmard\" : [\"CYCLOPHOSPHAMIDE\"],\n",
    "    \"TC_dmard\" : [\"CICLOSPORINE\"],\n",
    "    \"gld_dmard\": [\"SODIUM_AUROTHIOMALATE\"]\n",
    "    #\"predni\":  ['PREDNISOLONE',\"METHYLPREDNISOLONE\"],\n",
    "}\n",
    "predni=  ['PREDNISOLONE',\"METHYLPREDNISOLONE\"]\n",
    "set(dmards)- set([j for x in dmard_types for j in dmard_types[x]])\n",
    "\n",
    "\n",
    "features_o = [f\"{x}_o\" for x in features]\n",
    "features_o"
   ]
  },
  {
   "cell_type": "code",
   "execution_count": 39,
   "id": "944c9654",
   "metadata": {},
   "outputs": [
    {
     "data": {
      "text/plain": [
       "Index(['TJC_28', 'SJC_28', 'ESR', 'leukocytes', 'hb_corrected', 'MCV',\n",
       "       'thrombocytes', 'TJC_28_o', 'SJC_28_o', 'ESR_o', 'leukocytes_o',\n",
       "       'hb_corrected_o', 'MCV_o', 'thrombocytes_o', 'das28_n', 'das28',\n",
       "       'das44', 'SJC_44_o', 'TJC_44_o', 'aCCP positive', 'RF positive',\n",
       "       'label', 'days', 'days_nlp', 'PATNR', 'DATUM', 'Age', 'sex',\n",
       "       'dmard_usage', 'symptomDuration', 'days_DMARD', 'Hemoglobine',\n",
       "       'sequence', 'Age_n', 'remision', 'ABATACEPT', 'ADALIMUMAB', 'ANAKINRA',\n",
       "       'SODIUM_AUROTHIOMALATE', 'AZATHIOPRINE', 'BARICITINIB',\n",
       "       'CERTOLIZUMAB_PEGOL', 'CICLOSPORINE', 'CYCLOPHOSPHAMIDE', 'ETANERCEPT',\n",
       "       'GOLIMUMAB', 'HYDROXYCHLOROQUINE', 'INFLIXIMAB', 'LEFLUNOMIDE',\n",
       "       'METHOTREXATE', 'SULFASALAZINE', 'TOCILIZUMAB', 'TOFACITINIB',\n",
       "       'METHYLPREDNISOLONE', 'PREDNISOLONE', 'TNF_b_dmards', 'IL6_b_dmards',\n",
       "       'IL1_b_dmards', 'tcell_b_dmards', 'cs_dmards', 'jak_dmard', 'XO_damrd',\n",
       "       'OP_dmard', 'TC_dmard', 'gld_dmard', 'count', 'no_med', 'med',\n",
       "       'to_clust', 'label_text', 'to_clust_text', 'traject_label', 'seq',\n",
       "       'one', 'two', 'no_disease', 'double_pos', 'sero_negative', 'seropos',\n",
       "       'from_clust', 'global_trajectory_o', 'global_trajectory', 'communi_x',\n",
       "       'communi_y', 'communi_x.1', 'communi_y.1', 'communi'],\n",
       "      dtype='object')"
      ]
     },
     "execution_count": 39,
     "metadata": {},
     "output_type": "execute_result"
    }
   ],
   "source": [
    "data_heatmap = pd.read_csv(data_dir+\"labeled_data_back-up.csv\", parse_dates=[\"DATUM\"])\n",
    "#data_heatmap[\"age_cate\"] = data_heatmap.age_cate.astype(\"category\")\n",
    "data_heatmap.columns\n",
    "#data_heatmap = data_heatmap.sort_values(\"DATUM\").groupby(\"PATNR\").head(1)"
   ]
  },
  {
   "cell_type": "code",
   "execution_count": 40,
   "id": "dbe6babb",
   "metadata": {},
   "outputs": [
    {
     "name": "stdout",
     "output_type": "stream",
     "text": [
      "['TJC_28', 'SJC_28', 'ESR', 'leukocytes', 'hb_corrected', 'thrombocytes']\n"
     ]
    },
    {
     "data": {
      "text/plain": [
       "array([[0.14285714, 0.16666667, 0.32352941, 0.69561448, 0.63059704,\n",
       "        0.54123113],\n",
       "       [0.07142857, 0.125     , 0.05147059, 0.40338692, 0.60820894,\n",
       "        0.30778165],\n",
       "       [0.07142857, 0.08333333, 0.14705882, 0.36778116, 0.70895528,\n",
       "        0.27642276],\n",
       "       ...,\n",
       "       [0.        , 0.        , 0.02941176, 0.46591404, 0.69776121,\n",
       "        0.43321719],\n",
       "       [0.        , 0.        , 0.22794118, 0.4706904 , 0.66417909,\n",
       "        0.46225319],\n",
       "       [0.        , 0.        , 0.06617647, 0.38428138, 0.68656713,\n",
       "        0.34727062]])"
      ]
     },
     "execution_count": 40,
     "metadata": {},
     "output_type": "execute_result"
    }
   ],
   "source": [
    "print(features)\n",
    "scaler =MinMaxScaler(feature_range=(0, 1))\n",
    "scaler = scaler.fit(data_heatmap[features_o].values)\n",
    "scaler.transform(data_heatmap[features_o].values)\n"
   ]
  },
  {
   "cell_type": "code",
   "execution_count": 41,
   "id": "d4aed4a8",
   "metadata": {},
   "outputs": [],
   "source": [
    "\n",
    "x = data_heatmap.query(\"days == 0\").reset_index()\n",
    "#x = data_heatmap.query(\"to_clust != -1\")\n",
    "x\n",
    "x_o = x[features_o]"
   ]
  },
  {
   "cell_type": "code",
   "execution_count": 42,
   "id": "9fee141a",
   "metadata": {},
   "outputs": [],
   "source": [
    "\n",
    "x = data_heatmap.query(\"days == 0\").reset_index()\n",
    "#x = data_heatmap.query(\"to_clust != -1\")\n",
    "x\n",
    "x_o = x[features_o]\n",
    "\n",
    "#y = data_heatmap.query(\"to_clust != -1\")[\"to_clust\"]\n",
    "y = x[\"global_trajectory\"]\n",
    "y_o = x[\"global_trajectory_o\"]\n",
    "#y = x[\"label\"]\n",
    "\n",
    "x = x[features \n",
    "                 #+ [\"aCCP positive\", \"RF positive\"] \n",
    "    \n",
    "                 #+ [\"Age\", \"sex\"]\n",
    "                 #+ dmards\n",
    "                ]\n"
   ]
  },
  {
   "cell_type": "code",
   "execution_count": 43,
   "id": "902a76c3",
   "metadata": {},
   "outputs": [],
   "source": [
    "x_used = x[features \n",
    "                 #+ [\"aCCP positive\", \"RF positive\"]\n",
    "                 #+ [\"label\"]\n",
    "                 #+ dmards\n",
    "                ]\n"
   ]
  },
  {
   "cell_type": "code",
   "execution_count": 44,
   "id": "c380e14d",
   "metadata": {},
   "outputs": [
    {
     "name": "stdout",
     "output_type": "stream",
     "text": [
      "Index(['TJC_28_o', 'SJC_28_o', 'ESR_o', 'leukocytes_o', 'hb_corrected_o',\n",
      "       'thrombocytes_o', 'label', 'test_label'],\n",
      "      dtype='object')\n"
     ]
    },
    {
     "data": {
      "image/png": "[encoded data removed]",
      "text/plain": [
       "<Figure size 640x480 with 1 Axes>"
      ]
     },
     "metadata": {},
     "output_type": "display_data"
    }
   ],
   "source": [
    "import seaborn as sns\n",
    "x_o[\"label\"] =y\n",
    "x_o[\"test_label\"] = \"B\"\n",
    "print(x_o.columns)\n",
    "sns.histplot(data =x_o, x=\"ESR_o\", hue=\"label\")\n",
    "x_o[\"test_label\"] = \"B\"\n",
    "x_o.loc[x_o.query(\"ESR_o >= 35\").index, \"test_label\"] = \"A\""
   ]
  },
  {
   "cell_type": "code",
   "execution_count": null,
   "id": "ca833c5c-dd15-4879-aa43-fcf516ddcb0d",
   "metadata": {},
   "outputs": [],
   "source": []
  },
  {
   "cell_type": "code",
   "execution_count": 45,
   "id": "ee6dade9-e5a1-48f2-92bd-c93e347877b3",
   "metadata": {},
   "outputs": [
    {
     "data": {
      "image/png": "[encoded data removed]",
      "text/plain": [
       "<Figure size 640x480 with 1 Axes>"
      ]
     },
     "metadata": {},
     "output_type": "display_data"
    }
   ],
   "source": [
    "sns.histplot(data =x_o.query(\"ESR_o < 35\"), x=\"leukocytes_o\", hue=\"label\")\n",
    "x_o.loc[x_o.query(\"ESR_o < 45 & leukocytes_o >= 8.5\").index, \"test_label\"] = \"C\""
   ]
  },
  {
   "cell_type": "code",
   "execution_count": 46,
   "id": "aced19d8-6a4e-45c9-a5b3-ae9f96dfbc29",
   "metadata": {},
   "outputs": [
    {
     "data": {
      "image/png": "[encoded data removed]",
      "text/plain": [
       "<Figure size 640x480 with 1 Axes>"
      ]
     },
     "metadata": {},
     "output_type": "display_data"
    }
   ],
   "source": [
    "sns.histplot(data=x_o.query('test_label == \"B\"'),x=\"TJC_28_o\", hue=\"label\")\n",
    "x_o.loc[x_o.query(\"ESR_o < 50 & leukocytes_o < 10 &  SJC_28_o >= 4\").index, \"test_label\"] = \"D\""
   ]
  },
  {
   "cell_type": "code",
   "execution_count": 47,
   "id": "629484d5",
   "metadata": {},
   "outputs": [],
   "source": [
    "train_index, test_index = train_test_split(y.index,test_size = 0.2, random_state = 42, stratify = y)\n",
    "X_train = x.loc[train_index,:]\n",
    "X_test = x.loc[test_index,:]\n",
    "X_train_o = x_o.loc[train_index,:]\n",
    "X_test_o = x_o.loc[test_index,:]\n",
    "y_train = y.loc[train_index]\n",
    "y_test = y.loc[test_index]\n",
    "y_train_o = y.loc[train_index]\n",
    "y_test_o = y.loc[test_index]"
   ]
  },
  {
   "cell_type": "code",
   "execution_count": 48,
   "id": "32a5d89a",
   "metadata": {},
   "outputs": [],
   "source": [
    "from sklearn import linear_model\n"
   ]
  },
  {
   "cell_type": "code",
   "execution_count": 49,
   "id": "1bece775",
   "metadata": {},
   "outputs": [
    {
     "name": "stdout",
     "output_type": "stream",
     "text": [
      "dict_keys(['C', 'class_weight', 'dual', 'fit_intercept', 'intercept_scaling', 'l1_ratio', 'max_iter', 'multi_class', 'n_jobs', 'penalty', 'random_state', 'solver', 'tol', 'verbose', 'warm_start'])\n"
     ]
    }
   ],
   "source": [
    "from sklearn import svm, linear_model\n",
    "model = linear_model.LogisticRegression(penalty=\"elasticnet\", max_iter=10000, solver=\"saga\", class_weight=\"balanced\")\n",
    "rcv = DCV(model)\n",
    "# prints all the params you can change :)\n",
    "print(model.get_params().keys())\n",
    "# select which params you want to test with the inner loop\n",
    "# space is the paramater space\n",
    "rcv.hyperParams['C'] = [100, 10, 1.0]\n",
    "rcv.hyperParams['l1_ratio'] = [ 0,0.3,0.5,0.9,1]\n"
   ]
  },
  {
   "cell_type": "code",
   "execution_count": 50,
   "id": "1bad2ac2",
   "metadata": {
    "scrolled": true
   },
   "outputs": [
    {
     "name": "stdout",
     "output_type": "stream",
     "text": [
      "Training progress: [--------------------------------------------------] 0.0% \n"
     ]
    },
    {
     "name": "stderr",
     "output_type": "stream",
     "text": [
      "/exports/reum/nsteinz/lumc_torch/lib/python3.10/site-packages/pandas/core/computation/expressions.py:21: UserWarning: Pandas requires version '2.8.4' or newer of 'numexpr' (version '2.8.3' currently installed).\n",
      "  from pandas.core.computation.check import NUMEXPR_INSTALLED\n",
      "/exports/reum/nsteinz/lumc_torch/lib/python3.10/site-packages/pandas/core/computation/expressions.py:21: UserWarning: Pandas requires version '2.8.4' or newer of 'numexpr' (version '2.8.3' currently installed).\n",
      "  from pandas.core.computation.check import NUMEXPR_INSTALLED\n",
      "/exports/reum/nsteinz/lumc_torch/lib/python3.10/site-packages/pandas/core/computation/expressions.py:21: UserWarning: Pandas requires version '2.8.4' or newer of 'numexpr' (version '2.8.3' currently installed).\n",
      "  from pandas.core.computation.check import NUMEXPR_INSTALLED\n",
      "/exports/reum/nsteinz/lumc_torch/lib/python3.10/site-packages/pandas/core/computation/expressions.py:21: UserWarning: Pandas requires version '2.8.4' or newer of 'numexpr' (version '2.8.3' currently installed).\n",
      "  from pandas.core.computation.check import NUMEXPR_INSTALLED\n",
      "/exports/reum/nsteinz/lumc_torch/lib/python3.10/site-packages/pandas/core/arrays/masked.py:60: UserWarning: Pandas requires version '1.3.6' or newer of 'bottleneck' (version '1.3.5' currently installed).\n",
      "  from pandas.core import (\n",
      "/exports/reum/nsteinz/lumc_torch/lib/python3.10/site-packages/pandas/core/arrays/masked.py:60: UserWarning: Pandas requires version '1.3.6' or newer of 'bottleneck' (version '1.3.5' currently installed).\n",
      "  from pandas.core import (\n",
      "/exports/reum/nsteinz/lumc_torch/lib/python3.10/site-packages/pandas/core/arrays/masked.py:60: UserWarning: Pandas requires version '1.3.6' or newer of 'bottleneck' (version '1.3.5' currently installed).\n",
      "  from pandas.core import (\n",
      "/exports/reum/nsteinz/lumc_torch/lib/python3.10/site-packages/pandas/core/arrays/masked.py:60: UserWarning: Pandas requires version '1.3.6' or newer of 'bottleneck' (version '1.3.5' currently installed).\n",
      "  from pandas.core import (\n"
     ]
    },
    {
     "name": "stdout",
     "output_type": "stream",
     "text": [
      "Training progress: [##########----------------------------------------] 20.0% \n",
      "Training progress: [####################------------------------------] 40.0% \n",
      "Training progress: [##############################--------------------] 60.0% \n",
      "Training progress: [########################################----------] 80.0% \n",
      "Training progress: [##################################################] 100.0% Done...\n",
      "\n"
     ]
    }
   ],
   "source": [
    "rcv.train_fit(X_train, y_train, loop=1)"
   ]
  },
  {
   "cell_type": "code",
   "execution_count": 51,
   "id": "8cd1b38b",
   "metadata": {},
   "outputs": [
    {
     "data": {
      "text/plain": [
       "0    0.535354\n",
       "1    0.545455\n",
       "2    0.525253\n",
       "3    0.565657\n",
       "4    0.540404\n",
       "Name: values, dtype: float64"
      ]
     },
     "execution_count": 51,
     "metadata": {},
     "output_type": "execute_result"
    }
   ],
   "source": [
    "#rcv.save_all_data(modelname=\"SVM_\",directory=results_dir)\n",
    "rcv.test_accuracy[\"values\"]"
   ]
  },
  {
   "cell_type": "code",
   "execution_count": 52,
   "id": "aedc3204",
   "metadata": {},
   "outputs": [
    {
     "data": {
      "image/png": "[encoded data removed]",
      "text/plain": [
       "<Figure size 640x480 with 1 Axes>"
      ]
     },
     "metadata": {},
     "output_type": "display_data"
    },
    {
     "data": {
      "text/plain": [
       "values    0.542424\n",
       "dtype: float64"
      ]
     },
     "execution_count": 52,
     "metadata": {},
     "output_type": "execute_result"
    }
   ],
   "source": [
    "rcv.test_accuracy[\"values\"].to_frame().boxplot()\n",
    "plt.show()\n",
    "rcv.test_accuracy[\"values\"].to_frame().mean()"
   ]
  },
  {
   "cell_type": "code",
   "execution_count": null,
   "id": "d3e3c552",
   "metadata": {},
   "outputs": [],
   "source": []
  },
  {
   "cell_type": "code",
   "execution_count": 53,
   "id": "531e5d53",
   "metadata": {},
   "outputs": [
    {
     "name": "stdout",
     "output_type": "stream",
     "text": [
      "100.0\n"
     ]
    },
    {
     "data": {
      "text/plain": [
       "array([[  0.5454114 ,   1.        ,   0.9       ],\n",
       "       [  0.53241855,   1.        ,   0.9       ],\n",
       "       [  0.503885  , 100.        ,   0.        ],\n",
       "       [  0.54781306,   1.        ,   0.9       ],\n",
       "       [  0.51903195,   1.        ,   0.        ]])"
      ]
     },
     "execution_count": 53,
     "metadata": {},
     "output_type": "execute_result"
    }
   ],
   "source": [
    "rcv.test_precision[\"values\"].to_frame().mean(), \n",
    "print(rcv.test_precision.values.max())\n",
    "rcv.test_precision.values"
   ]
  },
  {
   "cell_type": "code",
   "execution_count": 54,
   "id": "5d8f9cf4",
   "metadata": {},
   "outputs": [
    {
     "data": {
      "text/plain": [
       "(values    0.519877\n",
       " dtype: float64,\n",
       " values      3\n",
       " C           2\n",
       " l1_ratio    0\n",
       " dtype: int64)"
      ]
     },
     "execution_count": 54,
     "metadata": {},
     "output_type": "execute_result"
    }
   ],
   "source": [
    "rcv.test_f1[\"values\"].to_frame().mean() , rcv.test_f1.idxmax()"
   ]
  },
  {
   "cell_type": "code",
   "execution_count": 55,
   "id": "f9b1c2d8",
   "metadata": {},
   "outputs": [
    {
     "data": {
      "text/plain": [
       "values    0.529214\n",
       "dtype: float64"
      ]
     },
     "execution_count": 55,
     "metadata": {},
     "output_type": "execute_result"
    }
   ],
   "source": [
    "rcv.test_recall[\"values\"].to_frame().mean()"
   ]
  },
  {
   "cell_type": "code",
   "execution_count": 56,
   "id": "0b23ec32",
   "metadata": {},
   "outputs": [
    {
     "name": "stdout",
     "output_type": "stream",
     "text": [
      "0.54      values      C  l1_ratio\n",
      "0  0.518961    1.0       0.9\n",
      "1  0.529195    1.0       0.9\n",
      "2  0.498732  100.0       0.0\n",
      "3  0.541507    1.0       0.9\n",
      "4  0.510990    1.0       0.0\n"
     ]
    }
   ],
   "source": [
    "print(rcv.test_f1.l1_ratio.mean(), rcv.test_f1)"
   ]
  },
  {
   "cell_type": "code",
   "execution_count": 57,
   "id": "5c613abe",
   "metadata": {},
   "outputs": [
    {
     "data": {
      "text/html": [
       "<div>\n",
       "<style scoped>\n",
       "    .dataframe tbody tr th:only-of-type {\n",
       "        vertical-align: middle;\n",
       "    }\n",
       "\n",
       "    .dataframe tbody tr th {\n",
       "        vertical-align: top;\n",
       "    }\n",
       "\n",
       "    .dataframe thead tr th {\n",
       "        text-align: left;\n",
       "    }\n",
       "</style>\n",
       "<table border=\"1\" class=\"dataframe\">\n",
       "  <thead>\n",
       "    <tr>\n",
       "      <th>C</th>\n",
       "      <th colspan=\"5\" halign=\"left\">100.0</th>\n",
       "      <th colspan=\"5\" halign=\"left\">10.0</th>\n",
       "      <th colspan=\"5\" halign=\"left\">1.0</th>\n",
       "    </tr>\n",
       "    <tr>\n",
       "      <th>l1_ratio</th>\n",
       "      <th>0.0</th>\n",
       "      <th>0.3</th>\n",
       "      <th>0.5</th>\n",
       "      <th>0.9</th>\n",
       "      <th>1.0</th>\n",
       "      <th>0.0</th>\n",
       "      <th>0.3</th>\n",
       "      <th>0.5</th>\n",
       "      <th>0.9</th>\n",
       "      <th>1.0</th>\n",
       "      <th>0.0</th>\n",
       "      <th>0.3</th>\n",
       "      <th>0.5</th>\n",
       "      <th>0.9</th>\n",
       "      <th>1.0</th>\n",
       "    </tr>\n",
       "  </thead>\n",
       "  <tbody>\n",
       "    <tr>\n",
       "      <th>0</th>\n",
       "      <td>0.549627</td>\n",
       "      <td>0.551189</td>\n",
       "      <td>0.551189</td>\n",
       "      <td>0.552082</td>\n",
       "      <td>0.552082</td>\n",
       "      <td>0.548230</td>\n",
       "      <td>0.546957</td>\n",
       "      <td>0.546064</td>\n",
       "      <td>0.549519</td>\n",
       "      <td>0.549519</td>\n",
       "      <td>0.535895</td>\n",
       "      <td>0.535788</td>\n",
       "      <td>0.542029</td>\n",
       "      <td>0.553329</td>\n",
       "      <td>0.549569</td>\n",
       "    </tr>\n",
       "    <tr>\n",
       "      <th>1</th>\n",
       "      <td>0.515790</td>\n",
       "      <td>0.517352</td>\n",
       "      <td>0.516459</td>\n",
       "      <td>0.515567</td>\n",
       "      <td>0.515567</td>\n",
       "      <td>0.518129</td>\n",
       "      <td>0.516567</td>\n",
       "      <td>0.515674</td>\n",
       "      <td>0.514674</td>\n",
       "      <td>0.514781</td>\n",
       "      <td>0.521689</td>\n",
       "      <td>0.520796</td>\n",
       "      <td>0.521582</td>\n",
       "      <td>0.531295</td>\n",
       "      <td>0.526947</td>\n",
       "    </tr>\n",
       "    <tr>\n",
       "      <th>2</th>\n",
       "      <td>0.541574</td>\n",
       "      <td>0.541574</td>\n",
       "      <td>0.541574</td>\n",
       "      <td>0.541574</td>\n",
       "      <td>0.541574</td>\n",
       "      <td>0.540614</td>\n",
       "      <td>0.540829</td>\n",
       "      <td>0.541722</td>\n",
       "      <td>0.538449</td>\n",
       "      <td>0.540722</td>\n",
       "      <td>0.534726</td>\n",
       "      <td>0.531074</td>\n",
       "      <td>0.529694</td>\n",
       "      <td>0.533993</td>\n",
       "      <td>0.531613</td>\n",
       "    </tr>\n",
       "    <tr>\n",
       "      <th>3</th>\n",
       "      <td>0.546502</td>\n",
       "      <td>0.546502</td>\n",
       "      <td>0.546502</td>\n",
       "      <td>0.546502</td>\n",
       "      <td>0.546502</td>\n",
       "      <td>0.544940</td>\n",
       "      <td>0.545940</td>\n",
       "      <td>0.546502</td>\n",
       "      <td>0.545502</td>\n",
       "      <td>0.545502</td>\n",
       "      <td>0.534623</td>\n",
       "      <td>0.537078</td>\n",
       "      <td>0.539351</td>\n",
       "      <td>0.548610</td>\n",
       "      <td>0.548502</td>\n",
       "    </tr>\n",
       "    <tr>\n",
       "      <th>4</th>\n",
       "      <td>0.518641</td>\n",
       "      <td>0.518641</td>\n",
       "      <td>0.516369</td>\n",
       "      <td>0.515476</td>\n",
       "      <td>0.515476</td>\n",
       "      <td>0.519896</td>\n",
       "      <td>0.517293</td>\n",
       "      <td>0.516293</td>\n",
       "      <td>0.516186</td>\n",
       "      <td>0.513913</td>\n",
       "      <td>0.524429</td>\n",
       "      <td>0.520661</td>\n",
       "      <td>0.522446</td>\n",
       "      <td>0.518084</td>\n",
       "      <td>0.514481</td>\n",
       "    </tr>\n",
       "  </tbody>\n",
       "</table>\n",
       "</div>"
      ],
      "text/plain": [
       "C            100.0                                             10.0   \\\n",
       "l1_ratio       0.0       0.3       0.5       0.9       1.0       0.0   \n",
       "0         0.549627  0.551189  0.551189  0.552082  0.552082  0.548230   \n",
       "1         0.515790  0.517352  0.516459  0.515567  0.515567  0.518129   \n",
       "2         0.541574  0.541574  0.541574  0.541574  0.541574  0.540614   \n",
       "3         0.546502  0.546502  0.546502  0.546502  0.546502  0.544940   \n",
       "4         0.518641  0.518641  0.516369  0.515476  0.515476  0.519896   \n",
       "\n",
       "C                                                    1.0              \\\n",
       "l1_ratio       0.3       0.5       0.9       1.0       0.0       0.3   \n",
       "0         0.546957  0.546064  0.549519  0.549519  0.535895  0.535788   \n",
       "1         0.516567  0.515674  0.514674  0.514781  0.521689  0.520796   \n",
       "2         0.540829  0.541722  0.538449  0.540722  0.534726  0.531074   \n",
       "3         0.545940  0.546502  0.545502  0.545502  0.534623  0.537078   \n",
       "4         0.517293  0.516293  0.516186  0.513913  0.524429  0.520661   \n",
       "\n",
       "C                                       \n",
       "l1_ratio       0.5       0.9       1.0  \n",
       "0         0.542029  0.553329  0.549569  \n",
       "1         0.521582  0.531295  0.526947  \n",
       "2         0.529694  0.533993  0.531613  \n",
       "3         0.539351  0.548610  0.548502  \n",
       "4         0.522446  0.518084  0.514481  "
      ]
     },
     "execution_count": 57,
     "metadata": {},
     "output_type": "execute_result"
    }
   ],
   "source": [
    "rcv.train_recall"
   ]
  },
  {
   "cell_type": "code",
   "execution_count": 58,
   "id": "0cb9c6c4-3622-4bf1-8eb7-bf7a6c565605",
   "metadata": {},
   "outputs": [],
   "source": [
    "model = linear_model.LogisticRegression(penalty=\"elasticnet\", max_iter=10000, solver=\"saga\", C=1, l1_ratio=0)\n"
   ]
  },
  {
   "cell_type": "code",
   "execution_count": 59,
   "id": "e0abef8d",
   "metadata": {},
   "outputs": [
    {
     "data": {
      "text/plain": [
       "{'C': 1.0,\n",
       " 'class_weight': 'balanced',\n",
       " 'dual': False,\n",
       " 'fit_intercept': True,\n",
       " 'intercept_scaling': 1,\n",
       " 'l1_ratio': None,\n",
       " 'max_iter': 10000,\n",
       " 'multi_class': 'auto',\n",
       " 'n_jobs': None,\n",
       " 'penalty': 'elasticnet',\n",
       " 'random_state': None,\n",
       " 'solver': 'saga',\n",
       " 'tol': 0.0001,\n",
       " 'verbose': 0,\n",
       " 'warm_start': False}"
      ]
     },
     "execution_count": 59,
     "metadata": {},
     "output_type": "execute_result"
    }
   ],
   "source": [
    "rcv.Model.get_params()"
   ]
  },
  {
   "cell_type": "code",
   "execution_count": 60,
   "id": "bae0e377",
   "metadata": {},
   "outputs": [
    {
     "data": {
      "text/plain": [
       "defaultdict(list,\n",
       "            {'Classifier': ['elastic net'],\n",
       "             'accuracy': [0.5915065722952477],\n",
       "             'precision': [0.5628262279272376],\n",
       "             'recall': [0.5172578325848214],\n",
       "             'f1': [0.5195565420789919]})"
      ]
     },
     "execution_count": 60,
     "metadata": {},
     "output_type": "execute_result"
    }
   ],
   "source": [
    "model = linear_model.LogisticRegression(penalty=\"elasticnet\", \n",
    "                                        max_iter=10000, \n",
    "                                        solver=\"saga\", \n",
    "                                        l1_ratio=0.9, \n",
    "                                        C = 10, \n",
    "                                        #class_weight=\"balanced\"\n",
    "                                       )\n",
    "#model.fit(X_train, y_train)\n",
    "name = \"elastic net\"\n",
    "model.fit(X_train, y_train)\n",
    "scores = defaultdict(list)\n",
    "y_pred = model.predict(X_train)\n",
    "scores[\"Classifier\"].append(name)\n",
    "scores[\"accuracy\"].append(accuracy_score(y_train, y_pred))               \n",
    "scores[\"precision\"].append(precision_score(y_train, y_pred, average=\"macro\"))\n",
    "scores[\"recall\"].append(recall_score(y_train, y_pred, average=\"macro\"))\n",
    "scores[\"f1\"].append(f1_score(y_train, y_pred, average=\"macro\"))\n",
    "#roc_auc_score(y_test, y_pred, average=\"macro\", multi_class=\"ovr\")\n",
    "scores"
   ]
  },
  {
   "cell_type": "code",
   "execution_count": 61,
   "id": "33b2e73f",
   "metadata": {},
   "outputs": [
    {
     "name": "stdout",
     "output_type": "stream",
     "text": [
      "248\n"
     ]
    },
    {
     "data": {
      "text/plain": [
       "defaultdict(list,\n",
       "            {'Classifier': ['elastic net'],\n",
       "             'accuracy': [0.6008064516129032],\n",
       "             'precision': [0.6008064516129032],\n",
       "             'recall': [0.6008064516129032],\n",
       "             'f1': [0.6008064516129032]})"
      ]
     },
     "execution_count": 61,
     "metadata": {},
     "output_type": "execute_result"
    }
   ],
   "source": [
    "\n",
    "scores = defaultdict(list)\n",
    "y_pred = model.predict(X_test)\n",
    "scores[\"Classifier\"].append(name)\n",
    "scores[\"accuracy\"].append(accuracy_score(y_test, y_pred))           \n",
    "scores[\"precision\"].append(precision_score(y_test, y_pred, average=\"micro\"))\n",
    "scores[\"recall\"].append(recall_score(y_test, y_pred, average=\"micro\"))\n",
    "scores[\"f1\"].append(f1_score(y_test, y_pred, average=\"micro\"))\n",
    "#roc_auc_score(y_test, y_pred, average=\"macro\", multi_class=\"ovr\")\n",
    "print(len(y_test))\n",
    "scores"
   ]
  },
  {
   "cell_type": "code",
   "execution_count": 62,
   "id": "d99d97bf",
   "metadata": {},
   "outputs": [
    {
     "name": "stdout",
     "output_type": "stream",
     "text": [
      "              precision    recall  f1-score   support\n",
      "\n",
      "           A       0.73      0.71      0.72        86\n",
      "           B       0.52      0.71      0.60        77\n",
      "           C       0.71      0.48      0.57        50\n",
      "           D       0.38      0.26      0.31        35\n",
      "\n",
      "    accuracy                           0.60       248\n",
      "   macro avg       0.58      0.54      0.55       248\n",
      "weighted avg       0.61      0.60      0.59       248\n",
      "\n"
     ]
    },
    {
     "data": {
      "text/plain": [
       "(array([0.72619048, 0.51886792, 0.70588235, 0.375     ]),\n",
       " array([0.70930233, 0.71428571, 0.48      , 0.25714286]),\n",
       " array([0.71764706, 0.6010929 , 0.57142857, 0.30508475]),\n",
       " array([86, 77, 50, 35]))"
      ]
     },
     "execution_count": 62,
     "metadata": {},
     "output_type": "execute_result"
    }
   ],
   "source": [
    "from sklearn.metrics import classification_report, multilabel_confusion_matrix, precision_recall_fscore_support\n",
    "print(classification_report(y_test, y_pred))\n",
    "precision_recall_fscore_support(y_test, y_pred)"
   ]
  },
  {
   "cell_type": "code",
   "execution_count": 63,
   "id": "84c3bc96",
   "metadata": {},
   "outputs": [
    {
     "data": {
      "text/plain": [
       "array([[[139,  23],\n",
       "        [ 25,  61]],\n",
       "\n",
       "       [[120,  51],\n",
       "        [ 22,  55]],\n",
       "\n",
       "       [[188,  10],\n",
       "        [ 26,  24]],\n",
       "\n",
       "       [[198,  15],\n",
       "        [ 26,   9]]])"
      ]
     },
     "execution_count": 63,
     "metadata": {},
     "output_type": "execute_result"
    }
   ],
   "source": [
    "multilabel_confusion_matrix(y_test, y_pred)"
   ]
  },
  {
   "cell_type": "code",
   "execution_count": 64,
   "id": "1dca3484",
   "metadata": {},
   "outputs": [
    {
     "data": {
      "text/html": [
       "<style>#sk-container-id-2 {color: black;}#sk-container-id-2 pre{padding: 0;}#sk-container-id-2 div.sk-toggleable {background-color: white;}#sk-container-id-2 label.sk-toggleable__label {cursor: pointer;display: block;width: 100%;margin-bottom: 0;padding: 0.3em;box-sizing: border-box;text-align: center;}#sk-container-id-2 label.sk-toggleable__label-arrow:before {content: \"▸\";float: left;margin-right: 0.25em;color: #696969;}#sk-container-id-2 label.sk-toggleable__label-arrow:hover:before {color: black;}#sk-container-id-2 div.sk-estimator:hover label.sk-toggleable__label-arrow:before {color: black;}#sk-container-id-2 div.sk-toggleable__content {max-height: 0;max-width: 0;overflow: hidden;text-align: left;background-color: #f0f8ff;}#sk-container-id-2 div.sk-toggleable__content pre {margin: 0.2em;color: black;border-radius: 0.25em;background-color: #f0f8ff;}#sk-container-id-2 input.sk-toggleable__control:checked~div.sk-toggleable__content {max-height: 200px;max-width: 100%;overflow: auto;}#sk-container-id-2 input.sk-toggleable__control:checked~label.sk-toggleable__label-arrow:before {content: \"▾\";}#sk-container-id-2 div.sk-estimator input.sk-toggleable__control:checked~label.sk-toggleable__label {background-color: #d4ebff;}#sk-container-id-2 div.sk-label input.sk-toggleable__control:checked~label.sk-toggleable__label {background-color: #d4ebff;}#sk-container-id-2 input.sk-hidden--visually {border: 0;clip: rect(1px 1px 1px 1px);clip: rect(1px, 1px, 1px, 1px);height: 1px;margin: -1px;overflow: hidden;padding: 0;position: absolute;width: 1px;}#sk-container-id-2 div.sk-estimator {font-family: monospace;background-color: #f0f8ff;border: 1px dotted black;border-radius: 0.25em;box-sizing: border-box;margin-bottom: 0.5em;}#sk-container-id-2 div.sk-estimator:hover {background-color: #d4ebff;}#sk-container-id-2 div.sk-parallel-item::after {content: \"\";width: 100%;border-bottom: 1px solid gray;flex-grow: 1;}#sk-container-id-2 div.sk-label:hover label.sk-toggleable__label {background-color: #d4ebff;}#sk-container-id-2 div.sk-serial::before {content: \"\";position: absolute;border-left: 1px solid gray;box-sizing: border-box;top: 0;bottom: 0;left: 50%;z-index: 0;}#sk-container-id-2 div.sk-serial {display: flex;flex-direction: column;align-items: center;background-color: white;padding-right: 0.2em;padding-left: 0.2em;position: relative;}#sk-container-id-2 div.sk-item {position: relative;z-index: 1;}#sk-container-id-2 div.sk-parallel {display: flex;align-items: stretch;justify-content: center;background-color: white;position: relative;}#sk-container-id-2 div.sk-item::before, #sk-container-id-2 div.sk-parallel-item::before {content: \"\";position: absolute;border-left: 1px solid gray;box-sizing: border-box;top: 0;bottom: 0;left: 50%;z-index: -1;}#sk-container-id-2 div.sk-parallel-item {display: flex;flex-direction: column;z-index: 1;position: relative;background-color: white;}#sk-container-id-2 div.sk-parallel-item:first-child::after {align-self: flex-end;width: 50%;}#sk-container-id-2 div.sk-parallel-item:last-child::after {align-self: flex-start;width: 50%;}#sk-container-id-2 div.sk-parallel-item:only-child::after {width: 0;}#sk-container-id-2 div.sk-dashed-wrapped {border: 1px dashed gray;margin: 0 0.4em 0.5em 0.4em;box-sizing: border-box;padding-bottom: 0.4em;background-color: white;}#sk-container-id-2 div.sk-label label {font-family: monospace;font-weight: bold;display: inline-block;line-height: 1.2em;}#sk-container-id-2 div.sk-label-container {text-align: center;}#sk-container-id-2 div.sk-container {/* jupyter's `normalize.less` sets `[hidden] { display: none; }` but bootstrap.min.css set `[hidden] { display: none !important; }` so we also need the `!important` here to be able to override the default hidden behavior on the sphinx rendered scikit-learn.org. See: https://github.com/scikit-learn/scikit-learn/issues/21755 */display: inline-block !important;position: relative;}#sk-container-id-2 div.sk-text-repr-fallback {display: none;}</style><div id=\"sk-container-id-2\" class=\"sk-top-container\"><div class=\"sk-text-repr-fallback\"><pre>LogisticRegression(C=10, l1_ratio=0.9, max_iter=10000, penalty=&#x27;elasticnet&#x27;,\n",
       "                   solver=&#x27;saga&#x27;)</pre><b>In a Jupyter environment, please rerun this cell to show the HTML representation or trust the notebook. <br />On GitHub, the HTML representation is unable to render, please try loading this page with nbviewer.org.</b></div><div class=\"sk-container\" hidden><div class=\"sk-item\"><div class=\"sk-estimator sk-toggleable\"><input class=\"sk-toggleable__control sk-hidden--visually\" id=\"sk-estimator-id-2\" type=\"checkbox\" checked><label for=\"sk-estimator-id-2\" class=\"sk-toggleable__label sk-toggleable__label-arrow\">LogisticRegression</label><div class=\"sk-toggleable__content\"><pre>LogisticRegression(C=10, l1_ratio=0.9, max_iter=10000, penalty=&#x27;elasticnet&#x27;,\n",
       "                   solver=&#x27;saga&#x27;)</pre></div></div></div></div></div>"
      ],
      "text/plain": [
       "LogisticRegression(C=10, l1_ratio=0.9, max_iter=10000, penalty='elasticnet',\n",
       "                   solver='saga')"
      ]
     },
     "execution_count": 64,
     "metadata": {},
     "output_type": "execute_result"
    }
   ],
   "source": [
    "model.fit(X_train, y_train)"
   ]
  },
  {
   "cell_type": "code",
   "execution_count": 65,
   "id": "40071aa0-3644-4eb0-a3ef-defadfed2f68",
   "metadata": {},
   "outputs": [
    {
     "data": {
      "image/png": "[encoded data removed]",
      "text/plain": [
       "<Figure size 640x480 with 2 Axes>"
      ]
     },
     "metadata": {},
     "output_type": "display_data"
    },
    {
     "data": {
      "image/png": "[encoded data removed]",
      "text/plain": [
       "<Figure size 640x480 with 2 Axes>"
      ]
     },
     "metadata": {},
     "output_type": "display_data"
    }
   ],
   "source": [
    "\n",
    "\n",
    "disp = ConfusionMatrixDisplay.from_estimator(\n",
    "        model,\n",
    "        X_test,\n",
    "        y_test,\n",
    "        \n",
    "        cmap=plt.cm.Blues,\n",
    "    normalize = \"true\",\n",
    "\n",
    "    )\n",
    "plt.title(\"Elastic net logistic regression\")\n",
    "plt.grid(False)\n",
    "plt.savefig(\"Figure_5_Predictie.png\",dpi=1000)\n",
    "plt.show()\n",
    "disp = ConfusionMatrixDisplay.from_estimator(\n",
    "        model,\n",
    "        X_test,\n",
    "        y_test,\n",
    "        \n",
    "        cmap=plt.cm.Blues,\n",
    "    #normalize = \"true\",\n",
    "\n",
    "    )\n",
    "\n",
    "\n",
    "plt.title(\"SVM\")\n",
    "plt.grid(False)\n",
    "plt.show()"
   ]
  },
  {
   "cell_type": "code",
   "execution_count": 66,
   "id": "529396ad",
   "metadata": {},
   "outputs": [],
   "source": [
    "final = data_heatmap.query(\"days == 0\").reset_index()\n",
    "final[\"pred\"] = model.predict(final[features])\n",
    "final[[\"PATNR\", \"global_trajectory\", \"pred\"]].to_csv(results_dir+\"/additional_analysis.csv\",)"
   ]
  },
  {
   "cell_type": "code",
   "execution_count": 68,
   "id": "d1b100af",
   "metadata": {},
   "outputs": [],
   "source": [
    "\n",
    "final[[\"probability_A\",\"probability_B\",\"probability_C\",\"probability_D\",]] = model.predict_proba(final[features])"
   ]
  },
  {
   "cell_type": "code",
   "execution_count": 69,
   "id": "d9443e70",
   "metadata": {},
   "outputs": [],
   "source": [
    "from sklearn.inspection import permutation_importance\n",
    "\n",
    "perm_importance = permutation_importance(model, X_test, y_test, n_repeats=10,\n",
    "                                random_state=0)\n",
    "\n"
   ]
  },
  {
   "cell_type": "code",
   "execution_count": 70,
   "id": "ca7281ca",
   "metadata": {},
   "outputs": [
    {
     "data": {
      "image/png": "[encoded data removed]",
      "text/plain": [
       "<Figure size 640x480 with 1 Axes>"
      ]
     },
     "metadata": {},
     "output_type": "display_data"
    }
   ],
   "source": [
    "feature_names = x.columns\n",
    "features_ = np.array(feature_names)\n",
    "\n",
    "sorted_idx = perm_importance.importances_mean.argsort()\n",
    "plt.barh(features_[sorted_idx], perm_importance.importances_mean[sorted_idx])\n",
    "plt.xlabel(\"Permutation Importance\")\n",
    "plt.show()"
   ]
  },
  {
   "cell_type": "code",
   "execution_count": 71,
   "id": "0327f0ca",
   "metadata": {},
   "outputs": [
    {
     "data": {
      "image/png": "[encoded data removed]",
      "text/plain": [
       "<Figure size 1200x800 with 2 Axes>"
      ]
     },
     "metadata": {},
     "output_type": "display_data"
    }
   ],
   "source": [
    "from scipy.stats import spearmanr, cosine\n",
    "from scipy.cluster import hierarchy\n",
    "from scipy.spatial.distance import squareform\n",
    "\n",
    "fig, (ax1, ax2) = plt.subplots(1, 2, figsize=(12, 8))\n",
    "corr = spearmanr(x).correlation\n",
    "\n",
    "# Ensure the correlation matrix is symmetric\n",
    "corr = (corr + corr.T) / 2\n",
    "np.fill_diagonal(corr, 1)\n",
    "\n",
    "# We convert the correlation matrix to a distance matrix before performing\n",
    "# hierarchical clustering using Ward's linkage.\n",
    "distance_matrix = 1 - np.abs(corr)\n",
    "dist_linkage = hierarchy.ward(squareform(distance_matrix))\n",
    "dendro = hierarchy.dendrogram(\n",
    "    dist_linkage, labels=features_.tolist(), ax=ax1, leaf_rotation=90\n",
    ")\n",
    "dendro_idx = np.arange(0, len(dendro[\"ivl\"]))\n",
    "\n",
    "ax2.imshow(corr[dendro[\"leaves\"], :][:, dendro[\"leaves\"]])\n",
    "ax2.set_xticks(dendro_idx)\n",
    "ax2.set_yticks(dendro_idx)\n",
    "ax2.set_xticklabels(dendro[\"ivl\"], rotation=\"vertical\")\n",
    "ax2.set_yticklabels(dendro[\"ivl\"])\n",
    "fig.tight_layout()\n",
    "plt.show()"
   ]
  },
  {
   "cell_type": "code",
   "execution_count": 72,
   "id": "354c85cf",
   "metadata": {},
   "outputs": [
    {
     "name": "stdout",
     "output_type": "stream",
     "text": [
      "Accuracy on test data with features removed: 0.61\n"
     ]
    }
   ],
   "source": [
    "cluster_ids = hierarchy.fcluster(dist_linkage, 0, criterion=\"inconsistent\")\n",
    "cluster_id_to_feature_ids = defaultdict(list)\n",
    "for idx, cluster_id in enumerate(cluster_ids):\n",
    "    cluster_id_to_feature_ids[cluster_id].append(idx)\n",
    "selected_features = [v[0] for v in cluster_id_to_feature_ids.values()]\n",
    "\n",
    "X_train_sel = X_train.iloc[:, selected_features]\n",
    "X_test_sel = X_test.iloc[:, selected_features]\n",
    "\n",
    "clf_sel = svm.SVC(kernel=\"rbf\",C=10, max_iter=10000, decision_function_shape='ovr')\n",
    "clf_sel.fit(X_train_sel, y_train)\n",
    "print(\n",
    "    \"Accuracy on test data with features removed: {:.2f}\".format(\n",
    "        clf_sel.score(X_test_sel, y_test)\n",
    "    )\n",
    ")"
   ]
  },
  {
   "cell_type": "code",
   "execution_count": 73,
   "id": "db081d30",
   "metadata": {},
   "outputs": [
    {
     "data": {
      "text/plain": [
       "array(['TJC_28', 'ESR', 'leukocytes', 'hb_corrected'], dtype=object)"
      ]
     },
     "execution_count": 73,
     "metadata": {},
     "output_type": "execute_result"
    }
   ],
   "source": [
    "features_[selected_features]"
   ]
  },
  {
   "cell_type": "code",
   "execution_count": 74,
   "id": "43fbc718",
   "metadata": {},
   "outputs": [],
   "source": [
    "from sklearn.metrics import RocCurveDisplay, roc_auc_score, precision_recall_curve"
   ]
  },
  {
   "cell_type": "code",
   "execution_count": 76,
   "id": "c5b90cb7-7d81-480a-807b-b356948e6936",
   "metadata": {},
   "outputs": [],
   "source": [
    "from sklearn.model_selection import StratifiedKFold, permutation_test_score\n",
    "cv = StratifiedKFold(2, shuffle=True, random_state=0)\n",
    "score_iris, perm_scores_iris, pvalue_iris = permutation_test_score(\n",
    "    model, x, y, scoring=\"accuracy\", cv=cv, n_permutations=1000\n",
    ")"
   ]
  },
  {
   "cell_type": "code",
   "execution_count": 77,
   "id": "e8bc3720-6308-4401-bb42-72757cfb40a2",
   "metadata": {},
   "outputs": [
    {
     "data": {
      "image/png": "[encoded data removed]",
      "text/plain": [
       "<Figure size 640x480 with 1 Axes>"
      ]
     },
     "metadata": {},
     "output_type": "display_data"
    }
   ],
   "source": [
    "import matplotlib.pyplot as plt\n",
    "\n",
    "fig, ax = plt.subplots()\n",
    "\n",
    "ax.hist(perm_scores_iris, bins=20, density=True)\n",
    "ax.axvline(score_iris, ls=\"--\", color=\"r\")\n",
    "score_label = f\"Score on original\\ndata: {score_iris:.2f}\\n(p-value: {pvalue_iris:.3f})\"\n",
    "ax.text(0.7, 10, score_label, fontsize=12)\n",
    "ax.set_xlabel(\"Accuracy score\")\n",
    "_ = ax.set_ylabel(\"Probability density\")"
   ]
  },
  {
   "cell_type": "code",
   "execution_count": 78,
   "id": "2ccae83e",
   "metadata": {},
   "outputs": [
    {
     "name": "stderr",
     "output_type": "stream",
     "text": [
      "/tmp/ipykernel_894245/2427944885.py:1: UserWarning: Could not infer format, so each element will be parsed individually, falling back to `dateutil`. To ensure parsing is consistent and as-expected, please specify a format.\n",
      "  med_data = pd.read_csv(data_dir+\"life_line_data.csv\", parse_dates=[\"PEC\",\"last_visit\",\"baseline_year\",\"first_med_date\",\"first_pred_date\"])\n"
     ]
    },
    {
     "data": {
      "text/html": [
       "<div>\n",
       "<style scoped>\n",
       "    .dataframe tbody tr th:only-of-type {\n",
       "        vertical-align: middle;\n",
       "    }\n",
       "\n",
       "    .dataframe tbody tr th {\n",
       "        vertical-align: top;\n",
       "    }\n",
       "\n",
       "    .dataframe thead th {\n",
       "        text-align: right;\n",
       "    }\n",
       "</style>\n",
       "<table border=\"1\" class=\"dataframe\">\n",
       "  <thead>\n",
       "    <tr style=\"text-align: right;\">\n",
       "      <th></th>\n",
       "      <th>PATNR</th>\n",
       "      <th>global_trajectory</th>\n",
       "      <th>sex</th>\n",
       "      <th>aCCP positive</th>\n",
       "      <th>RF positive</th>\n",
       "      <th>symptomDuration</th>\n",
       "      <th>label</th>\n",
       "      <th>pred</th>\n",
       "      <th>PEC</th>\n",
       "      <th>last_visit</th>\n",
       "      <th>baseline_year</th>\n",
       "      <th>first_med_date</th>\n",
       "      <th>first_pred_date</th>\n",
       "    </tr>\n",
       "  </thead>\n",
       "  <tbody>\n",
       "    <tr>\n",
       "      <th>0</th>\n",
       "      <td>304828067</td>\n",
       "      <td>B</td>\n",
       "      <td>0</td>\n",
       "      <td>False</td>\n",
       "      <td>False</td>\n",
       "      <td>0.0</td>\n",
       "      <td>1</td>\n",
       "      <td>B</td>\n",
       "      <td>2011-08-31</td>\n",
       "      <td>2014-01-15</td>\n",
       "      <td>2011.0</td>\n",
       "      <td>2011-11-18</td>\n",
       "      <td>NaT</td>\n",
       "    </tr>\n",
       "    <tr>\n",
       "      <th>1</th>\n",
       "      <td>304837810</td>\n",
       "      <td>C</td>\n",
       "      <td>1</td>\n",
       "      <td>True</td>\n",
       "      <td>True</td>\n",
       "      <td>186.0</td>\n",
       "      <td>4</td>\n",
       "      <td>B</td>\n",
       "      <td>2011-09-05</td>\n",
       "      <td>2015-04-22</td>\n",
       "      <td>2011.0</td>\n",
       "      <td>2012-01-09</td>\n",
       "      <td>NaT</td>\n",
       "    </tr>\n",
       "    <tr>\n",
       "      <th>2</th>\n",
       "      <td>304835849</td>\n",
       "      <td>A</td>\n",
       "      <td>1</td>\n",
       "      <td>True</td>\n",
       "      <td>True</td>\n",
       "      <td>0.0</td>\n",
       "      <td>8</td>\n",
       "      <td>A</td>\n",
       "      <td>2011-09-07</td>\n",
       "      <td>2022-10-24</td>\n",
       "      <td>2011.0</td>\n",
       "      <td>2012-05-08</td>\n",
       "      <td>NaT</td>\n",
       "    </tr>\n",
       "    <tr>\n",
       "      <th>3</th>\n",
       "      <td>304867071</td>\n",
       "      <td>C</td>\n",
       "      <td>0</td>\n",
       "      <td>True</td>\n",
       "      <td>False</td>\n",
       "      <td>248.0</td>\n",
       "      <td>7</td>\n",
       "      <td>D</td>\n",
       "      <td>2011-09-08</td>\n",
       "      <td>2017-03-14</td>\n",
       "      <td>2011.0</td>\n",
       "      <td>2011-09-15</td>\n",
       "      <td>2011-11-10</td>\n",
       "    </tr>\n",
       "    <tr>\n",
       "      <th>4</th>\n",
       "      <td>304836407</td>\n",
       "      <td>A</td>\n",
       "      <td>1</td>\n",
       "      <td>True</td>\n",
       "      <td>False</td>\n",
       "      <td>0.0</td>\n",
       "      <td>6</td>\n",
       "      <td>A</td>\n",
       "      <td>2011-09-16</td>\n",
       "      <td>2022-10-04</td>\n",
       "      <td>2011.0</td>\n",
       "      <td>2011-09-21</td>\n",
       "      <td>2014-11-11</td>\n",
       "    </tr>\n",
       "    <tr>\n",
       "      <th>...</th>\n",
       "      <td>...</td>\n",
       "      <td>...</td>\n",
       "      <td>...</td>\n",
       "      <td>...</td>\n",
       "      <td>...</td>\n",
       "      <td>...</td>\n",
       "      <td>...</td>\n",
       "      <td>...</td>\n",
       "      <td>...</td>\n",
       "      <td>...</td>\n",
       "      <td>...</td>\n",
       "      <td>...</td>\n",
       "      <td>...</td>\n",
       "    </tr>\n",
       "    <tr>\n",
       "      <th>1232</th>\n",
       "      <td>304820662</td>\n",
       "      <td>C</td>\n",
       "      <td>0</td>\n",
       "      <td>False</td>\n",
       "      <td>False</td>\n",
       "      <td>0.0</td>\n",
       "      <td>4</td>\n",
       "      <td>B</td>\n",
       "      <td>NaT</td>\n",
       "      <td>NaT</td>\n",
       "      <td>NaN</td>\n",
       "      <td>2022-01-18</td>\n",
       "      <td>2021-03-02</td>\n",
       "    </tr>\n",
       "    <tr>\n",
       "      <th>1233</th>\n",
       "      <td>304844197</td>\n",
       "      <td>D</td>\n",
       "      <td>1</td>\n",
       "      <td>True</td>\n",
       "      <td>False</td>\n",
       "      <td>0.0</td>\n",
       "      <td>7</td>\n",
       "      <td>D</td>\n",
       "      <td>2020-06-25</td>\n",
       "      <td>2022-07-20</td>\n",
       "      <td>2020.0</td>\n",
       "      <td>2022-03-08</td>\n",
       "      <td>NaT</td>\n",
       "    </tr>\n",
       "    <tr>\n",
       "      <th>1234</th>\n",
       "      <td>307727641</td>\n",
       "      <td>A</td>\n",
       "      <td>1</td>\n",
       "      <td>True</td>\n",
       "      <td>True</td>\n",
       "      <td>0.0</td>\n",
       "      <td>6</td>\n",
       "      <td>A</td>\n",
       "      <td>2021-10-07</td>\n",
       "      <td>2022-09-16</td>\n",
       "      <td>2021.0</td>\n",
       "      <td>2022-03-03</td>\n",
       "      <td>2022-03-03</td>\n",
       "    </tr>\n",
       "    <tr>\n",
       "      <th>1235</th>\n",
       "      <td>304854474</td>\n",
       "      <td>B</td>\n",
       "      <td>1</td>\n",
       "      <td>True</td>\n",
       "      <td>False</td>\n",
       "      <td>0.0</td>\n",
       "      <td>2</td>\n",
       "      <td>A</td>\n",
       "      <td>2021-02-05</td>\n",
       "      <td>2022-09-01</td>\n",
       "      <td>2021.0</td>\n",
       "      <td>2022-04-13</td>\n",
       "      <td>NaT</td>\n",
       "    </tr>\n",
       "    <tr>\n",
       "      <th>1236</th>\n",
       "      <td>304825243</td>\n",
       "      <td>B</td>\n",
       "      <td>0</td>\n",
       "      <td>True</td>\n",
       "      <td>False</td>\n",
       "      <td>0.0</td>\n",
       "      <td>2</td>\n",
       "      <td>B</td>\n",
       "      <td>2021-02-03</td>\n",
       "      <td>2022-08-02</td>\n",
       "      <td>2021.0</td>\n",
       "      <td>2022-06-08</td>\n",
       "      <td>NaT</td>\n",
       "    </tr>\n",
       "  </tbody>\n",
       "</table>\n",
       "<p>1237 rows × 13 columns</p>\n",
       "</div>"
      ],
      "text/plain": [
       "          PATNR global_trajectory  sex  aCCP positive  RF positive  \\\n",
       "0     304828067                 B    0          False        False   \n",
       "1     304837810                 C    1           True         True   \n",
       "2     304835849                 A    1           True         True   \n",
       "3     304867071                 C    0           True        False   \n",
       "4     304836407                 A    1           True        False   \n",
       "...         ...               ...  ...            ...          ...   \n",
       "1232  304820662                 C    0          False        False   \n",
       "1233  304844197                 D    1           True        False   \n",
       "1234  307727641                 A    1           True         True   \n",
       "1235  304854474                 B    1           True        False   \n",
       "1236  304825243                 B    0           True        False   \n",
       "\n",
       "      symptomDuration  label pred        PEC last_visit baseline_year  \\\n",
       "0                 0.0      1    B 2011-08-31 2014-01-15        2011.0   \n",
       "1               186.0      4    B 2011-09-05 2015-04-22        2011.0   \n",
       "2                 0.0      8    A 2011-09-07 2022-10-24        2011.0   \n",
       "3               248.0      7    D 2011-09-08 2017-03-14        2011.0   \n",
       "4                 0.0      6    A 2011-09-16 2022-10-04        2011.0   \n",
       "...               ...    ...  ...        ...        ...           ...   \n",
       "1232              0.0      4    B        NaT        NaT           NaN   \n",
       "1233              0.0      7    D 2020-06-25 2022-07-20        2020.0   \n",
       "1234              0.0      6    A 2021-10-07 2022-09-16        2021.0   \n",
       "1235              0.0      2    A 2021-02-05 2022-09-01        2021.0   \n",
       "1236              0.0      2    B 2021-02-03 2022-08-02        2021.0   \n",
       "\n",
       "     first_med_date first_pred_date  \n",
       "0        2011-11-18             NaT  \n",
       "1        2012-01-09             NaT  \n",
       "2        2012-05-08             NaT  \n",
       "3        2011-09-15      2011-11-10  \n",
       "4        2011-09-21      2014-11-11  \n",
       "...             ...             ...  \n",
       "1232     2022-01-18      2021-03-02  \n",
       "1233     2022-03-08             NaT  \n",
       "1234     2022-03-03      2022-03-03  \n",
       "1235     2022-04-13             NaT  \n",
       "1236     2022-06-08             NaT  \n",
       "\n",
       "[1237 rows x 13 columns]"
      ]
     },
     "execution_count": 78,
     "metadata": {},
     "output_type": "execute_result"
    }
   ],
   "source": [
    "med_data = pd.read_csv(data_dir+\"life_line_data.csv\", parse_dates=[\"PEC\",\"last_visit\",\"baseline_year\",\"first_med_date\",\"first_pred_date\"])\n"
   ]
  },
  {
   "cell_type": "code",
   "execution_count": 79,
   "id": "12a3c048",
   "metadata": {},
   "outputs": [
    {
     "name": "stderr",
     "output_type": "stream",
     "text": [
      "/exports/reum/nsteinz/lumc_torch/lib/python3.10/site-packages/pandas/core/arraylike.py:399: RuntimeWarning: divide by zero encountered in log\n",
      "  result = getattr(ufunc, method)(*inputs, **kwargs)\n",
      "/exports/reum/nsteinz/lumc_torch/lib/python3.10/site-packages/pandas/core/arraylike.py:399: RuntimeWarning: invalid value encountered in log\n",
      "  result = getattr(ufunc, method)(*inputs, **kwargs)\n",
      "/tmp/ipykernel_894245/1044842657.py:7: FutureWarning: Downcasting object dtype arrays on .fillna, .ffill, .bfill is deprecated and will change in a future version. Call result.infer_objects(copy=False) instead. To opt-in to the future behavior, set `pd.set_option('future.no_silent_downcasting', True)`\n",
      "  reg_analysis = reg_analysis.fillna(0).replace({False:0,True:1,-np.inf:0})\n",
      "/tmp/ipykernel_894245/1044842657.py:7: FutureWarning: Downcasting behavior in `replace` is deprecated and will be removed in a future version. To retain the old behavior, explicitly call `result.infer_objects(copy=False)`. To opt-in to the future behavior, set `pd.set_option('future.no_silent_downcasting', True)`\n",
      "  reg_analysis = reg_analysis.fillna(0).replace({False:0,True:1,-np.inf:0})\n"
     ]
    }
   ],
   "source": [
    "reg_analysis = final.drop(columns=[\"global_trajectory\",\"aCCP positive\", \"RF positive\",\"sex\",\"symptomDuration\"]).merge(med_data, on=\"PATNR\")\n",
    "reg_analysis.first_med_date\n",
    "reg_analysis[\"delta_meds\"] = (reg_analysis.first_med_date - reg_analysis.PEC).dt.days\n",
    "reg_analysis[\"log_symptomDuration\"] = np.log(reg_analysis[\"symptomDuration\"])\n",
    "reg_analysis = reg_analysis.drop(columns=\"index\")\n",
    "reg_analysis.to_csv(data_dir+\"regresion_data.csv\",index=False)\n",
    "reg_analysis = reg_analysis.fillna(0).replace({False:0,True:1,-np.inf:0})\n",
    "#reg_analysis = reg_analysis[~reg_analysis.PEC.isnull()].query(\"symptomDuration > 0\").drop(columns=[\"index\"])\n",
    "\n",
    "#list(reg_analysis.columns)"
   ]
  },
  {
   "cell_type": "code",
   "execution_count": 80,
   "id": "4e46932a",
   "metadata": {},
   "outputs": [],
   "source": [
    "reg_analysis.global_trajectory = pd.Categorical(reg_analysis.global_trajectory, categories=[\"B\", \"A\" ,\"C\", \"D\"] ,ordered=False)"
   ]
  },
  {
   "cell_type": "code",
   "execution_count": 109,
   "id": "cb3a44ee",
   "metadata": {},
   "outputs": [],
   "source": [
    "reg_analysis.to_csv(data_dir+\"regresion_data.csv\",index=False)\n"
   ]
  },
  {
   "cell_type": "code",
   "execution_count": 82,
   "id": "fc7b77f7",
   "metadata": {},
   "outputs": [],
   "source": [
    "features\n",
    "probs = [\"probability_A\",#\"probability_B\",\n",
    "         \"probability_C\",\"probability_D\"]\n",
    "seros = ['aCCP positive',\n",
    " 'RF positive']\n",
    "age = [\"Age\"]\n",
    "sex = [\"sex\"]\n",
    "label = \"global_trajectory\"\n",
    "used_predictors =  features \n",
    "\n",
    "used_predictors =  probs"
   ]
  },
  {
   "cell_type": "code",
   "execution_count": 83,
   "id": "5b2ff73b",
   "metadata": {},
   "outputs": [
    {
     "data": {
      "text/html": [
       "<div>\n",
       "<style scoped>\n",
       "    .dataframe tbody tr th:only-of-type {\n",
       "        vertical-align: middle;\n",
       "    }\n",
       "\n",
       "    .dataframe tbody tr th {\n",
       "        vertical-align: top;\n",
       "    }\n",
       "\n",
       "    .dataframe thead th {\n",
       "        text-align: right;\n",
       "    }\n",
       "</style>\n",
       "<table border=\"1\" class=\"dataframe\">\n",
       "  <thead>\n",
       "    <tr style=\"text-align: right;\">\n",
       "      <th></th>\n",
       "      <th>global_trajectory</th>\n",
       "      <th>probability_A</th>\n",
       "      <th>probability_C</th>\n",
       "      <th>probability_D</th>\n",
       "    </tr>\n",
       "  </thead>\n",
       "  <tbody>\n",
       "    <tr>\n",
       "      <th>0</th>\n",
       "      <td>C</td>\n",
       "      <td>0.159405</td>\n",
       "      <td>0.828630</td>\n",
       "      <td>0.006944</td>\n",
       "    </tr>\n",
       "    <tr>\n",
       "      <th>1</th>\n",
       "      <td>C</td>\n",
       "      <td>0.225773</td>\n",
       "      <td>0.147471</td>\n",
       "      <td>0.101067</td>\n",
       "    </tr>\n",
       "    <tr>\n",
       "      <th>2</th>\n",
       "      <td>B</td>\n",
       "      <td>0.129809</td>\n",
       "      <td>0.315679</td>\n",
       "      <td>0.333332</td>\n",
       "    </tr>\n",
       "    <tr>\n",
       "      <th>3</th>\n",
       "      <td>A</td>\n",
       "      <td>0.609211</td>\n",
       "      <td>0.257309</td>\n",
       "      <td>0.033721</td>\n",
       "    </tr>\n",
       "    <tr>\n",
       "      <th>4</th>\n",
       "      <td>B</td>\n",
       "      <td>0.305858</td>\n",
       "      <td>0.123396</td>\n",
       "      <td>0.102142</td>\n",
       "    </tr>\n",
       "    <tr>\n",
       "      <th>...</th>\n",
       "      <td>...</td>\n",
       "      <td>...</td>\n",
       "      <td>...</td>\n",
       "      <td>...</td>\n",
       "    </tr>\n",
       "    <tr>\n",
       "      <th>1232</th>\n",
       "      <td>B</td>\n",
       "      <td>0.100803</td>\n",
       "      <td>0.074642</td>\n",
       "      <td>0.106252</td>\n",
       "    </tr>\n",
       "    <tr>\n",
       "      <th>1233</th>\n",
       "      <td>B</td>\n",
       "      <td>0.260134</td>\n",
       "      <td>0.218878</td>\n",
       "      <td>0.116318</td>\n",
       "    </tr>\n",
       "    <tr>\n",
       "      <th>1234</th>\n",
       "      <td>B</td>\n",
       "      <td>0.127666</td>\n",
       "      <td>0.052176</td>\n",
       "      <td>0.097126</td>\n",
       "    </tr>\n",
       "    <tr>\n",
       "      <th>1235</th>\n",
       "      <td>C</td>\n",
       "      <td>0.159631</td>\n",
       "      <td>0.211878</td>\n",
       "      <td>0.096016</td>\n",
       "    </tr>\n",
       "    <tr>\n",
       "      <th>1236</th>\n",
       "      <td>C</td>\n",
       "      <td>0.109997</td>\n",
       "      <td>0.745748</td>\n",
       "      <td>0.036908</td>\n",
       "    </tr>\n",
       "  </tbody>\n",
       "</table>\n",
       "<p>1237 rows × 4 columns</p>\n",
       "</div>"
      ],
      "text/plain": [
       "     global_trajectory  probability_A  probability_C  probability_D\n",
       "0                    C       0.159405       0.828630       0.006944\n",
       "1                    C       0.225773       0.147471       0.101067\n",
       "2                    B       0.129809       0.315679       0.333332\n",
       "3                    A       0.609211       0.257309       0.033721\n",
       "4                    B       0.305858       0.123396       0.102142\n",
       "...                ...            ...            ...            ...\n",
       "1232                 B       0.100803       0.074642       0.106252\n",
       "1233                 B       0.260134       0.218878       0.116318\n",
       "1234                 B       0.127666       0.052176       0.097126\n",
       "1235                 C       0.159631       0.211878       0.096016\n",
       "1236                 C       0.109997       0.745748       0.036908\n",
       "\n",
       "[1237 rows x 4 columns]"
      ]
     },
     "execution_count": 83,
     "metadata": {},
     "output_type": "execute_result"
    }
   ],
   "source": [
    "reg_analysis[[label]+probs]"
   ]
  },
  {
   "cell_type": "code",
   "execution_count": 84,
   "id": "59480277",
   "metadata": {},
   "outputs": [],
   "source": [
    "#discrete_model.MNLogit.from_formula(f\"{label} ~ ({' + '.join(features) })\", data=reg_analysis).fit()\n",
    "#f\"{label} ~ {' + '.join(probs) }\"\n"
   ]
  },
  {
   "cell_type": "code",
   "execution_count": 94,
   "id": "295d5126",
   "metadata": {},
   "outputs": [],
   "source": [
    "import statsmodels.api as sm\n",
    "import statsmodels.formula.api as smf\n",
    "import statsmodels.tools.tools as tools\n",
    "import statsmodels.discrete.discrete_model as discrete_model\n"
   ]
  },
  {
   "cell_type": "code",
   "execution_count": 95,
   "id": "16601730",
   "metadata": {},
   "outputs": [
    {
     "data": {
      "text/plain": [
       "global_trajectory\n",
       "A    0.269231\n",
       "B    0.257042\n",
       "C    0.227053\n",
       "D    0.231250\n",
       "Name: count, dtype: float64"
      ]
     },
     "execution_count": 95,
     "metadata": {},
     "output_type": "execute_result"
    }
   ],
   "source": [
    "#reg_analysis[features].loc[X_train.index]\n",
    "X_train.index\n",
    "reg_train = reg_analysis.query(\"index in @X_train.index\")\n",
    "reg_test = reg_analysis.query(\"index in @X_test.index\")\n",
    "reg_test.global_trajectory.value_counts()/reg_train.global_trajectory.value_counts()\n",
    "#reg_train.global_trajectory.value_counts()\n"
   ]
  },
  {
   "cell_type": "code",
   "execution_count": 87,
   "id": "d06c2494",
   "metadata": {},
   "outputs": [
    {
     "data": {
      "text/plain": [
       "global_trajectory\n",
       "A    0.250000\n",
       "B    0.251634\n",
       "C    0.250000\n",
       "D    0.251799\n",
       "Name: count, dtype: float64"
      ]
     },
     "execution_count": 87,
     "metadata": {},
     "output_type": "execute_result"
    }
   ],
   "source": [
    "y_test.value_counts()/y_train.value_counts()"
   ]
  },
  {
   "cell_type": "code",
   "execution_count": 89,
   "id": "bc3b58e1",
   "metadata": {},
   "outputs": [
    {
     "name": "stdout",
     "output_type": "stream",
     "text": [
      "Optimization terminated successfully.\n",
      "         Current function value: 1.012366\n",
      "         Iterations 6\n",
      "Optimization terminated successfully.\n",
      "         Current function value: 1.004259\n",
      "         Iterations 6\n",
      "Optimization terminated successfully.\n",
      "         Current function value: 0.997071\n",
      "         Iterations 6\n"
     ]
    }
   ],
   "source": [
    "base_model = discrete_model.MNLogit(reg_analysis[\"global_trajectory\"]  ,tools.add_constant(reg_analysis[used_predictors])).fit()\n",
    "age_model = discrete_model.MNLogit(reg_analysis[\"global_trajectory\"]  ,tools.add_constant(reg_analysis[used_predictors+age+sex]).fillna(False).replace({False:0,True:1})).fit()\n",
    "#sex_model = discrete_model.MNLogit(reg_train[\"global_trajectory\"]  ,tools.add_constant(reg_train[used_predictors+sex]).fillna(False).replace({False:0,True:1})).fit()\n",
    "sero_model = discrete_model.MNLogit(reg_analysis[\"global_trajectory\"]  ,tools.add_constant(reg_analysis[used_predictors+age+sex+seros]).fillna(False).replace({False:0,True:1})).fit()"
   ]
  },
  {
   "cell_type": "code",
   "execution_count": 90,
   "id": "3d38ac4a",
   "metadata": {},
   "outputs": [
    {
     "name": "stdout",
     "output_type": "stream",
     "text": [
      "                          MNLogit Regression Results                          \n",
      "==============================================================================\n",
      "Dep. Variable:      global_trajectory   No. Observations:                 1237\n",
      "Model:                        MNLogit   Df Residuals:                     1225\n",
      "Method:                           MLE   Df Model:                            9\n",
      "Date:                Tue, 29 Apr 2025   Pseudo R-squ.:                  0.2465\n",
      "Time:                        11:40:24   Log-Likelihood:                -1252.3\n",
      "converged:                       True   LL-Null:                       -1662.0\n",
      "Covariance Type:            nonrobust   LLR p-value:                1.413e-170\n",
      "=======================================================================================\n",
      "global_trajectory=A       coef    std err          z      P>|z|      [0.025      0.975]\n",
      "---------------------------------------------------------------------------------------\n",
      "const                  -4.2097      0.407    -10.336      0.000      -5.008      -3.411\n",
      "probability_A           8.0497      0.584     13.776      0.000       6.904       9.195\n",
      "probability_C           5.8159      0.811      7.172      0.000       4.226       7.405\n",
      "probability_D           4.0289      1.161      3.469      0.001       1.753       6.305\n",
      "---------------------------------------------------------------------------------------\n",
      "global_trajectory=C       coef    std err          z      P>|z|      [0.025      0.975]\n",
      "---------------------------------------------------------------------------------------\n",
      "const                  -4.6001      0.438    -10.491      0.000      -5.460      -3.741\n",
      "probability_A           5.2526      0.654      8.034      0.000       3.971       6.534\n",
      "probability_C           9.5699      0.814     11.760      0.000       7.975      11.165\n",
      "probability_D           4.7307      1.189      3.979      0.000       2.401       7.061\n",
      "---------------------------------------------------------------------------------------\n",
      "global_trajectory=D       coef    std err          z      P>|z|      [0.025      0.975]\n",
      "---------------------------------------------------------------------------------------\n",
      "const                  -3.9308      0.393     -9.999      0.000      -4.701      -3.160\n",
      "probability_A           3.7234      0.676      5.505      0.000       2.398       5.049\n",
      "probability_C           4.3014      0.910      4.726      0.000       2.518       6.085\n",
      "probability_D           8.9705      0.940      9.544      0.000       7.128      10.813\n",
      "=======================================================================================\n",
      "                          MNLogit Regression Results                          \n",
      "==============================================================================\n",
      "Dep. Variable:      global_trajectory   No. Observations:                 1237\n",
      "Model:                        MNLogit   Df Residuals:                     1219\n",
      "Method:                           MLE   Df Model:                           15\n",
      "Date:                Tue, 29 Apr 2025   Pseudo R-squ.:                  0.2525\n",
      "Time:                        11:40:24   Log-Likelihood:                -1242.3\n",
      "converged:                       True   LL-Null:                       -1662.0\n",
      "Covariance Type:            nonrobust   LLR p-value:                3.142e-169\n",
      "=======================================================================================\n",
      "global_trajectory=A       coef    std err          z      P>|z|      [0.025      0.975]\n",
      "---------------------------------------------------------------------------------------\n",
      "const                  -5.5149      0.549    -10.043      0.000      -6.591      -4.439\n",
      "probability_A           7.7003      0.595     12.941      0.000       6.534       8.867\n",
      "probability_C           5.7112      0.824      6.932      0.000       4.096       7.326\n",
      "probability_D           3.6435      1.197      3.045      0.002       1.298       5.989\n",
      "Age                     0.0188      0.006      2.958      0.003       0.006       0.031\n",
      "sex                     0.5759      0.192      3.005      0.003       0.200       0.952\n",
      "---------------------------------------------------------------------------------------\n",
      "global_trajectory=C       coef    std err          z      P>|z|      [0.025      0.975]\n",
      "---------------------------------------------------------------------------------------\n",
      "const                  -4.8029      0.562     -8.547      0.000      -5.904      -3.701\n",
      "probability_A           5.3095      0.669      7.931      0.000       3.997       6.622\n",
      "probability_C           9.7332      0.828     11.757      0.000       8.111      11.356\n",
      "probability_D           4.8952      1.217      4.024      0.000       2.511       7.280\n",
      "Age                 -9.828e-06      0.007     -0.001      0.999      -0.013       0.013\n",
      "sex                     0.2073      0.202      1.026      0.305      -0.189       0.603\n",
      "---------------------------------------------------------------------------------------\n",
      "global_trajectory=D       coef    std err          z      P>|z|      [0.025      0.975]\n",
      "---------------------------------------------------------------------------------------\n",
      "const                  -4.6642      0.559     -8.349      0.000      -5.759      -3.569\n",
      "probability_A           3.5353      0.686      5.151      0.000       2.190       4.881\n",
      "probability_C           4.3017      0.916      4.695      0.000       2.506       6.098\n",
      "probability_D           8.7740      0.962      9.119      0.000       6.888      10.660\n",
      "Age                     0.0107      0.007      1.533      0.125      -0.003       0.024\n",
      "sex                     0.3057      0.205      1.488      0.137      -0.097       0.708\n",
      "=======================================================================================\n",
      "                          MNLogit Regression Results                          \n",
      "==============================================================================\n",
      "Dep. Variable:      global_trajectory   No. Observations:                 1237\n",
      "Model:                        MNLogit   Df Residuals:                     1213\n",
      "Method:                           MLE   Df Model:                           21\n",
      "Date:                Tue, 29 Apr 2025   Pseudo R-squ.:                  0.2579\n",
      "Time:                        11:40:24   Log-Likelihood:                -1233.4\n",
      "converged:                       True   LL-Null:                       -1662.0\n",
      "Covariance Type:            nonrobust   LLR p-value:                6.485e-168\n",
      "=======================================================================================\n",
      "global_trajectory=A       coef    std err          z      P>|z|      [0.025      0.975]\n",
      "---------------------------------------------------------------------------------------\n",
      "const                  -5.7752      0.575    -10.041      0.000      -6.903      -4.648\n",
      "probability_A           7.7943      0.598     13.044      0.000       6.623       8.965\n",
      "probability_C           5.7940      0.827      7.009      0.000       4.174       7.414\n",
      "probability_D           3.9995      1.193      3.352      0.001       1.661       6.338\n",
      "Age                     0.0199      0.006      3.108      0.002       0.007       0.032\n",
      "sex                     0.5761      0.192      2.999      0.003       0.200       0.953\n",
      "aCCP positive           0.4550      0.236      1.931      0.053      -0.007       0.917\n",
      "RF positive            -0.2601      0.232     -1.120      0.263      -0.715       0.195\n",
      "---------------------------------------------------------------------------------------\n",
      "global_trajectory=C       coef    std err          z      P>|z|      [0.025      0.975]\n",
      "---------------------------------------------------------------------------------------\n",
      "const                  -4.9621      0.586     -8.475      0.000      -6.110      -3.815\n",
      "probability_A           5.3358      0.670      7.967      0.000       4.023       6.648\n",
      "probability_C           9.7635      0.829     11.781      0.000       8.139      11.388\n",
      "probability_D           5.0156      1.209      4.148      0.000       2.646       7.386\n",
      "Age                     0.0011      0.007      0.166      0.868      -0.012       0.014\n",
      "sex                     0.2069      0.202      1.022      0.307      -0.190       0.604\n",
      "aCCP positive           0.3895      0.252      1.543      0.123      -0.105       0.884\n",
      "RF positive            -0.2617      0.250     -1.048      0.295      -0.751       0.228\n",
      "---------------------------------------------------------------------------------------\n",
      "global_trajectory=D       coef    std err          z      P>|z|      [0.025      0.975]\n",
      "---------------------------------------------------------------------------------------\n",
      "const                  -4.2713      0.570     -7.487      0.000      -5.389      -3.153\n",
      "probability_A           3.6263      0.685      5.292      0.000       2.283       4.969\n",
      "probability_C           4.3652      0.918      4.756      0.000       2.566       6.164\n",
      "probability_D           8.6420      0.960      9.002      0.000       6.760      10.524\n",
      "Age                     0.0080      0.007      1.139      0.255      -0.006       0.022\n",
      "sex                     0.2748      0.206      1.334      0.182      -0.129       0.679\n",
      "aCCP positive          -0.4533      0.264     -1.715      0.086      -0.971       0.065\n",
      "RF positive            -0.1447      0.254     -0.571      0.568      -0.642       0.352\n",
      "=======================================================================================\n"
     ]
    }
   ],
   "source": [
    "print(base_model.summary())\n",
    "print(age_model.summary())\n",
    "print(sero_model.summary())"
   ]
  },
  {
   "cell_type": "code",
   "execution_count": 91,
   "id": "a5746df4",
   "metadata": {},
   "outputs": [
    {
     "name": "stdout",
     "output_type": "stream",
     "text": [
      "Optimization terminated successfully.\n",
      "         Current function value: 1.004752\n",
      "         Iterations 6\n"
     ]
    }
   ],
   "source": [
    "all_model = discrete_model.MNLogit(reg_train[\"global_trajectory\"] ,tools.add_constant(reg_train[used_predictors+seros+age+sex+[\"log_symptomDuration\",\"delta_meds\"]])).fit()"
   ]
  },
  {
   "cell_type": "code",
   "execution_count": 92,
   "id": "e2d12fc7",
   "metadata": {},
   "outputs": [
    {
     "name": "stdout",
     "output_type": "stream",
     "text": [
      "Optimization terminated successfully.\n",
      "         Current function value: 1.007281\n",
      "         Iterations 6\n"
     ]
    }
   ],
   "source": [
    "all_model = discrete_model.MNLogit(reg_train[\"global_trajectory\"] ,tools.add_constant(reg_train[used_predictors+seros+age+sex+[\"log_symptomDuration\",]])).fit()\n",
    "predicted = all_model.predict(tools.add_constant(reg_test[used_predictors+seros+age+sex+[\"log_symptomDuration\"]]).fillna(False).replace({False:0,True:1})).T.idxmax()"
   ]
  },
  {
   "cell_type": "code",
   "execution_count": 93,
   "id": "9c1d8769",
   "metadata": {},
   "outputs": [
    {
     "name": "stderr",
     "output_type": "stream",
     "text": [
      "/tmp/ipykernel_894245/2063737097.py:1: FutureWarning: The default of observed=False is deprecated and will be changed to True in a future version of pandas. Pass observed=False to retain current behavior or observed=True to adopt the future default and silence this warning.\n",
      "  reg_test[used_predictors+seros+age+sex+[\"log_symptomDuration\", \"global_trajectory\"]].groupby(\"global_trajectory\").mean()\n"
     ]
    },
    {
     "data": {
      "text/html": [
       "<div>\n",
       "<style scoped>\n",
       "    .dataframe tbody tr th:only-of-type {\n",
       "        vertical-align: middle;\n",
       "    }\n",
       "\n",
       "    .dataframe tbody tr th {\n",
       "        vertical-align: top;\n",
       "    }\n",
       "\n",
       "    .dataframe thead th {\n",
       "        text-align: right;\n",
       "    }\n",
       "</style>\n",
       "<table border=\"1\" class=\"dataframe\">\n",
       "  <thead>\n",
       "    <tr style=\"text-align: right;\">\n",
       "      <th></th>\n",
       "      <th>probability_A</th>\n",
       "      <th>probability_C</th>\n",
       "      <th>probability_D</th>\n",
       "      <th>aCCP positive</th>\n",
       "      <th>RF positive</th>\n",
       "      <th>Age</th>\n",
       "      <th>sex</th>\n",
       "      <th>log_symptomDuration</th>\n",
       "    </tr>\n",
       "    <tr>\n",
       "      <th>global_trajectory</th>\n",
       "      <th></th>\n",
       "      <th></th>\n",
       "      <th></th>\n",
       "      <th></th>\n",
       "      <th></th>\n",
       "      <th></th>\n",
       "      <th></th>\n",
       "      <th></th>\n",
       "    </tr>\n",
       "  </thead>\n",
       "  <tbody>\n",
       "    <tr>\n",
       "      <th>B</th>\n",
       "      <td>0.209410</td>\n",
       "      <td>0.146257</td>\n",
       "      <td>0.174083</td>\n",
       "      <td>0.493151</td>\n",
       "      <td>0.547945</td>\n",
       "      <td>56.493151</td>\n",
       "      <td>0.643836</td>\n",
       "      <td>1.066658</td>\n",
       "    </tr>\n",
       "    <tr>\n",
       "      <th>A</th>\n",
       "      <td>0.562694</td>\n",
       "      <td>0.159367</td>\n",
       "      <td>0.081251</td>\n",
       "      <td>0.582418</td>\n",
       "      <td>0.560440</td>\n",
       "      <td>62.417582</td>\n",
       "      <td>0.714286</td>\n",
       "      <td>1.525665</td>\n",
       "    </tr>\n",
       "    <tr>\n",
       "      <th>C</th>\n",
       "      <td>0.268305</td>\n",
       "      <td>0.379898</td>\n",
       "      <td>0.112458</td>\n",
       "      <td>0.553191</td>\n",
       "      <td>0.531915</td>\n",
       "      <td>56.702128</td>\n",
       "      <td>0.659574</td>\n",
       "      <td>2.359734</td>\n",
       "    </tr>\n",
       "    <tr>\n",
       "      <th>D</th>\n",
       "      <td>0.184187</td>\n",
       "      <td>0.167991</td>\n",
       "      <td>0.296856</td>\n",
       "      <td>0.243243</td>\n",
       "      <td>0.270270</td>\n",
       "      <td>61.270270</td>\n",
       "      <td>0.702703</td>\n",
       "      <td>1.989134</td>\n",
       "    </tr>\n",
       "  </tbody>\n",
       "</table>\n",
       "</div>"
      ],
      "text/plain": [
       "                   probability_A  probability_C  probability_D  aCCP positive  \\\n",
       "global_trajectory                                                               \n",
       "B                       0.209410       0.146257       0.174083       0.493151   \n",
       "A                       0.562694       0.159367       0.081251       0.582418   \n",
       "C                       0.268305       0.379898       0.112458       0.553191   \n",
       "D                       0.184187       0.167991       0.296856       0.243243   \n",
       "\n",
       "                   RF positive        Age       sex  log_symptomDuration  \n",
       "global_trajectory                                                         \n",
       "B                     0.547945  56.493151  0.643836             1.066658  \n",
       "A                     0.560440  62.417582  0.714286             1.525665  \n",
       "C                     0.531915  56.702128  0.659574             2.359734  \n",
       "D                     0.270270  61.270270  0.702703             1.989134  "
      ]
     },
     "execution_count": 93,
     "metadata": {},
     "output_type": "execute_result"
    }
   ],
   "source": [
    "reg_test[used_predictors+seros+age+sex+[\"log_symptomDuration\", \"global_trajectory\"]].groupby(\"global_trajectory\").mean()"
   ]
  },
  {
   "cell_type": "code",
   "execution_count": 96,
   "id": "8f140ed1",
   "metadata": {},
   "outputs": [
    {
     "name": "stdout",
     "output_type": "stream",
     "text": [
      "Optimization terminated successfully.\n",
      "         Current function value: 1.007281\n",
      "         Iterations 6\n"
     ]
    },
    {
     "data": {
      "text/plain": [
       "0       C\n",
       "6       B\n",
       "9       A\n",
       "19      B\n",
       "32      D\n",
       "       ..\n",
       "1216    A\n",
       "1217    B\n",
       "1223    C\n",
       "1225    A\n",
       "1230    B\n",
       "Length: 248, dtype: object"
      ]
     },
     "execution_count": 96,
     "metadata": {},
     "output_type": "execute_result"
    }
   ],
   "source": [
    "all_model = discrete_model.MNLogit(reg_train[\"global_trajectory\"] ,tools.add_constant(reg_train[used_predictors+seros+age+sex+[\"log_symptomDuration\"]]).fillna(False).replace({False:0,True:1})).fit()\n",
    "predicted = all_model.predict(tools.add_constant(reg_test[used_predictors+seros+age+sex+[\"log_symptomDuration\",]]).fillna(False).replace({False:0,True:1})).T.idxmax()\n",
    "predicted = predicted.replace(dict(zip(range(4),\"BACD\")))\n",
    "predicted"
   ]
  },
  {
   "cell_type": "code",
   "execution_count": 97,
   "id": "281d4e06",
   "metadata": {},
   "outputs": [
    {
     "data": {
      "image/png": "[encoded data removed]",
      "text/plain": [
       "<Figure size 640x480 with 2 Axes>"
      ]
     },
     "metadata": {},
     "output_type": "display_data"
    }
   ],
   "source": [
    "predicted = predicted.replace(dict(zip(range(4),\"ABCD\")))\n",
    "disp = ConfusionMatrixDisplay.from_predictions(\n",
    "        reg_test[\"global_trajectory\"],\n",
    "        predicted,\n",
    "        \n",
    "        cmap=plt.cm.Blues,\n",
    "    normalize = \"true\",\n",
    "\n",
    "    )\n",
    "\n",
    "plt.title(\"log_regresion full Model\")\n",
    "plt.show()"
   ]
  },
  {
   "cell_type": "code",
   "execution_count": 98,
   "id": "35f5fac0",
   "metadata": {},
   "outputs": [
    {
     "name": "stdout",
     "output_type": "stream",
     "text": [
      "Optimization terminated successfully.\n",
      "         Current function value: 1.025220\n",
      "         Iterations 6\n"
     ]
    }
   ],
   "source": [
    "base_model = discrete_model.MNLogit(reg_train[\"global_trajectory\"] ,tools.add_constant(reg_train[used_predictors]).fillna(False).replace({False:0,True:1})).fit()\n",
    "base_predicted = base_model.predict(tools.add_constant(reg_test[used_predictors]).fillna(False).replace({False:0,True:1})).T.idxmax()\n",
    "base_predicted = base_predicted.replace(dict(zip(range(4),\"BACD\")))"
   ]
  },
  {
   "cell_type": "code",
   "execution_count": 99,
   "id": "894d67ec",
   "metadata": {},
   "outputs": [
    {
     "data": {
      "image/png": "[encoded data removed]",
      "text/plain": [
       "<Figure size 640x480 with 2 Axes>"
      ]
     },
     "metadata": {},
     "output_type": "display_data"
    }
   ],
   "source": [
    "base_predicted = base_predicted.replace(dict(zip(range(4),\"ABCD\")))\n",
    "disp = ConfusionMatrixDisplay.from_predictions(\n",
    "        reg_test[\"global_trajectory\"],\n",
    "        base_predicted,\n",
    "        \n",
    "        cmap=plt.cm.Blues,\n",
    "    normalize = \"true\",\n",
    "\n",
    "    )\n",
    "\n",
    "plt.title(\"log_regresion base Model\")\n",
    "plt.show()"
   ]
  },
  {
   "cell_type": "code",
   "execution_count": 100,
   "id": "7549ae45",
   "metadata": {},
   "outputs": [
    {
     "name": "stdout",
     "output_type": "stream",
     "text": [
      "              precision    recall  f1-score   support\n",
      "\n",
      "           A       0.73      0.76      0.74        91\n",
      "           B       0.60      0.73      0.65        73\n",
      "           C       0.73      0.51      0.60        47\n",
      "           D       0.55      0.46      0.50        37\n",
      "\n",
      "    accuracy                           0.66       248\n",
      "   macro avg       0.65      0.61      0.62       248\n",
      "weighted avg       0.66      0.66      0.65       248\n",
      "\n"
     ]
    }
   ],
   "source": [
    "from sklearn.metrics import precision_recall_fscore_support\n",
    "precision_recall_fscore_support(reg_test[\"global_trajectory\"], predicted,)\n",
    "print(classification_report(reg_test[\"global_trajectory\"], predicted))"
   ]
  },
  {
   "cell_type": "code",
   "execution_count": 101,
   "id": "0265119a",
   "metadata": {},
   "outputs": [
    {
     "name": "stdout",
     "output_type": "stream",
     "text": [
      "              precision    recall  f1-score   support\n",
      "\n",
      "           A       0.74      0.69      0.72        91\n",
      "           B       0.57      0.73      0.64        73\n",
      "           C       0.74      0.60      0.66        47\n",
      "           D       0.53      0.46      0.49        37\n",
      "\n",
      "    accuracy                           0.65       248\n",
      "   macro avg       0.64      0.62      0.63       248\n",
      "weighted avg       0.66      0.65      0.65       248\n",
      "\n"
     ]
    }
   ],
   "source": [
    "print(classification_report(reg_test[\"global_trajectory\"], base_predicted))"
   ]
  },
  {
   "cell_type": "code",
   "execution_count": 102,
   "id": "1a0608bd",
   "metadata": {},
   "outputs": [
    {
     "data": {
      "text/plain": [
       "Index(['TJC_28', 'SJC_28', 'ESR', 'leukocytes', 'hb_corrected', 'MCV',\n",
       "       'thrombocytes', 'TJC_28_o', 'SJC_28_o', 'ESR_o',\n",
       "       ...\n",
       "       'symptomDuration', 'label_y', 'pred_y', 'PEC', 'last_visit',\n",
       "       'baseline_year', 'first_med_date', 'first_pred_date', 'delta_meds',\n",
       "       'log_symptomDuration'],\n",
       "      dtype='object', length=101)"
      ]
     },
     "execution_count": 102,
     "metadata": {},
     "output_type": "execute_result"
    }
   ],
   "source": [
    "reg_analysis.columns"
   ]
  }
 ],
 "metadata": {
  "kernelspec": {
   "display_name": "lumc (torch)",
   "language": "python",
   "name": "lumc_torch"
  },
  "language_info": {
   "codemirror_mode": {
    "name": "ipython",
    "version": 3
   },
   "file_extension": ".py",
   "mimetype": "text/x-python",
   "name": "python",
   "nbconvert_exporter": "python",
   "pygments_lexer": "ipython3",
   "version": "3.10.8"
  }
 },
 "nbformat": 4,
 "nbformat_minor": 5
}
