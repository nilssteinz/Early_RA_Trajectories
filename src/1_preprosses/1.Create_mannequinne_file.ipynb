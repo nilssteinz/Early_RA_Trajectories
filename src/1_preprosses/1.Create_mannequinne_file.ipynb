{
 "cells": [
  {
   "cell_type": "code",
   "execution_count": 32,
   "metadata": {},
   "outputs": [
    {
     "name": "stdout",
     "output_type": "stream",
     "text": [
      "/exports/reum/nsteinz/Project_trajectories\n",
      "/exports/reum/nsteinz/Project_trajectories/raw_data/\n",
      "/exports/reum/nsteinz/Project_trajectories/trajectories/data/\n",
      "/exports/reum/nsteinz/Project_trajectories/trajectories/output\n"
     ]
    }
   ],
   "source": [
    "import __init__ # set up all the correct referenses\n",
    "import os\n",
    "\n",
    "subproject_name = \"trajectories\"\n",
    "\n",
    "wd = \"../../../\"\n",
    "project_path = os.path.realpath(wd)\n",
    "print(project_path)\n",
    "\n",
    "raw_data_dir = project_path+\"/raw_data/\"\n",
    "print(raw_data_dir)\n",
    "\n",
    "\n",
    "data_dir = project_path+f\"/{subproject_name}\"+\"/data/\"\n",
    "print(data_dir)\n",
    "\n",
    "results_dir = project_path+f\"/{subproject_name}\"+\"/output\"\n",
    "print(results_dir)\n"
   ]
  },
  {
   "cell_type": "code",
   "execution_count": 33,
   "metadata": {},
   "outputs": [],
   "source": [
    "import pandas as pd\n",
    "import numpy as np\n",
    "from matplotlib import pyplot as plt\n"
   ]
  },
  {
   "cell_type": "code",
   "execution_count": 34,
   "metadata": {},
   "outputs": [],
   "source": [
    "das28 = [\n",
    "    \"pols links\", \"pols rechts\", \"pip 2 linkerhand\", \"pip 2 rechterhand\", \"pip 3 linkerhand\", \"pip 3 rechterhand\",\n",
    "    \"pip 4 linkerhand\", \"pip 4 rechterhand\",  \"pip 5 linkerhand\", \"pip 5 rechterhand\",\n",
    "    \"mcp 1 links\", \"mcp 1 rechts\", \"mcp 2 links\", \"mcp 2 rechts\", \"mcp 3 links\", \"mcp 3 rechts\",\n",
    "    \"mcp 4 links\", \"mcp 4 rechts\", \"mcp 5 links\", \"mcp 5 rechts\", \"ip links\", \"ip rechts\",\n",
    "    \"schouder links\", \"schouder rechts\", 'elleboog links', 'elleboog rechts', 'knie links', 'knie rechts'\n",
    "]\n",
    "das44 = das28 + [\n",
    "    'sternoclaviculair links', 'sternoclaviculair rechts', 'acromioclaviaculair rechts', 'acromioclaviculair links',\n",
    "    \"pip 2 linkervoet\", \"pip 2 rechtervoet\", \"pip 3 linkervoet\", \"pip 3 rechtervoet\",\n",
    "    \"pip 4 linkervoet\", \"pip 4 rechtervoet\",  \"pip 5 linkervoet\", \"pip 5 rechtervoet\",\n",
    "    \"bovenste spronggewricht links\", \"onderste spronggewricht links\",\n",
    "    \"bovenste spronggewricht rechts\",\"onderste spronggewricht rechts\"\n",
    "]    "
   ]
  },
  {
   "cell_type": "code",
   "execution_count": 35,
   "metadata": {},
   "outputs": [],
   "source": [
    "name_map = {'IP links': 'ip links', \n",
    " 'IP rechts':'ip rechts',\n",
    " 'IP voet links':'ip linkervoet',\n",
    " 'IP voet rechts':'ip rechtervoet',\n",
    " 'Manubrio sternaal gewricht':'manubrio sternaal gewricht',\n",
    " 'acromioclaviaculair L':'acromioclaviculair links',\n",
    " 'acromioclaviaculair R':'acromioclaviaculair rechts',\n",
    " 'bovenste spronggewicht links':'bovenste spronggewricht links',\n",
    " 'cmc 1 links':'cmc 1 links',\n",
    " 'cmc 1 rechts':'cmc 1 rechts',\n",
    " 'dip 2 links':'dip 2 linkerhand',\n",
    " 'dip 2 links voet':'dip 2 linkervoet',\n",
    " 'dip 2 rechts':'dip 2 rechterhand',\n",
    " 'dip 2 rechts voet':'dip 2 rechtervoet',\n",
    " 'dip 3 links':'dip 3 linkerhand',\n",
    " 'dip 3 links voet':'dip 3 linkervoet',\n",
    " 'dip 3 rechts':'dip 3 rechterhand',\n",
    " 'dip 3 rechts voet':'dip 3 rechtervoet',\n",
    " 'dip 4 links':'dip 4 linkerhand',\n",
    " 'dip 4 links voet':'dip 4 linkervoet',\n",
    " 'dip 4 rechts':'dip 4 rechterhand',\n",
    " 'dip 4 rechts voet':'dip 4 rechtervoet',\n",
    " 'dip 5 links':'dip 5 linkerhand',\n",
    " 'dip 5 links voet':'dip 5 linkervoet',\n",
    " 'dip 5 rechts':'dip 5 rechterhand',\n",
    " 'dip 5 rechts voet':'dip 5 rechtervoet',\n",
    " 'Elleboog L':'elleboog links',\n",
    " 'elleboog R':'elleboog rechts',\n",
    " 'pip 2 links hand':'pip 2 linkerhand',\n",
    " 'pip 2 links voet':'pip 2 linkervoet',\n",
    " 'pip 2 rechts hand':'pip 2 rechterhand',\n",
    " 'pip 2 rechts voet':'pip 2 rechtervoet',\n",
    " 'pip 3 links hand':'pip 3 linkerhand',\n",
    " 'pip 3 links voet':'pip 3 linkervoet',\n",
    " 'pip 3 rechts hand':'pip 3 rechterhand',\n",
    " 'pip 3 rechts voet':'pip 3 rechtervoet',\n",
    " 'pip 4 links hand':'pip 4 linkerhand',\n",
    " 'pip 4 links voet': 'pip 4 linkervoet',\n",
    " 'pip 4 rechts hand':'pip 4 rechterhand',\n",
    " 'pip 4 rechts voet':'pip 4 rechtervoet',\n",
    " 'pip 5 links hand':'pip 5 linkerhand',\n",
    " 'pip 5 links voet':'pip 5 linkervoet',\n",
    " 'pip 5 rechts hand':'pip 5 rechterhand',\n",
    " 'pip 5 rechts voet':'pip 5 rechtervoet',\n",
    " 'pols L':'pols links',\n",
    " 'pols R':'pols rechts',\n",
    " 'schouder L':'schouder links',\n",
    " 'schouder R':'schouder rechts',\n",
    " 'sternoclaviculair L':'sternoclaviculair links',\n",
    " 'sternoclaviculair R':'sternoclaviculair rechts',\n",
    " 'tarsometatarsaal L':'tarsometatarsaal Links',\n",
    " 'tarsometatarsaal R':'tarsometatarsaal Rechts',\n",
    " 'temporomandibulair L':'temporomandibulair links',\n",
    " 'temporomandibulair R':'temporomandibulair rechts'}"
   ]
  },
  {
   "cell_type": "code",
   "execution_count": 36,
   "metadata": {},
   "outputs": [],
   "source": [
    "def pivot_data(dataframe:pd.DataFrame, which: str, prefix:str=\"Pijn\", JC_name:str=\"TJC\" ) -> pd.DataFrame:\n",
    "    \"\"\"\n",
    "    input:\n",
    "    - dataframe\n",
    "    - which:\n",
    "    - prefix: waht is the prefix of the column names\n",
    "    -JC-name: joint count name [TJC/SJC]\n",
    "    \n",
    "    \"\"\"\n",
    "    df = dataframe[[\"PATNR\",\"DATUM\",\"STELLING\",\"XANTWOORD\",\"ZANTWOORD\",\"M_DATUM\"]][dataframe[\"STELLING\"] == which].copy()\n",
    "    df[\"value\"] = 1\n",
    "    df = df.pivot_table(index=(\"PATNR\",\"DATUM\"), columns=\"XANTWOORD\", values=\"value\",fill_value=0)\n",
    "    df = df.rename(columns=name_map)\n",
    "    #print(df.columns)\n",
    "    df[\"total \"+which] = df.sum(axis=1)\n",
    "    df[JC_name+\"_28\"] = df[das28].sum(axis=1)\n",
    "    df[JC_name+\"_44\"] = df[das44].sum(axis=1)\n",
    "    renaming = {x:prefix+\"_\"+\"_\".join(x.split(\" \")) for x in df.columns[:-3]}\n",
    "    df = df.rename(columns=renaming)\n",
    "    return df.reset_index()"
   ]
  },
  {
   "cell_type": "code",
   "execution_count": 37,
   "metadata": {},
   "outputs": [],
   "source": [
    "data = pd.read_csv(raw_data_dir+\"data_03_12_22/\"+\"NewPatSelection_Mannequin_20221202.csv\", sep=\"|\", parse_dates=True,)\n"
   ]
  },
  {
   "cell_type": "code",
   "execution_count": 38,
   "metadata": {},
   "outputs": [
    {
     "data": {
      "text/plain": [
       "Index(['PATNR', 'PID', 'identifier_value', 'item_text',\n",
       "       'item_answer1_value_original', 'item_answer2_value_original',\n",
       "       'item_answer3_value_original', 'item_answer_valueCoding_display',\n",
       "       'authored', 'questionnaire_Questionnaire_value', 'CATEGORIE',\n",
       "       'author_Person_value', 'created', 'item_answer_lastUpdateDate', 'PEC',\n",
       "       'M_DATUM', 'DATUM', 'DATUM_use'],\n",
       "      dtype='object')"
      ]
     },
     "execution_count": 38,
     "metadata": {},
     "output_type": "execute_result"
    }
   ],
   "source": [
    "data = pd.read_csv(raw_data_dir+\"data_03_12_22/\"+\"NewPatSelection_Mannequin_20221202.csv\", sep=\"|\", parse_dates=True,)\n",
    "data[\"M_DATUM\"] = pd.to_datetime(data.created.copy())\n",
    "data['DATUM'] = pd.to_datetime(data.authored)\n",
    "data[\"DATUM_use\"] =data.DATUM.dt.date\n",
    "data['DATUM']\n",
    "data.columns\n"
   ]
  },
  {
   "cell_type": "code",
   "execution_count": 39,
   "metadata": {},
   "outputs": [],
   "source": [
    "vas = data.item_text[data.item_text.str.contains(\"VAS\")].unique()\n",
    "vas_data = data.query(\"item_text in @vas\")[[\"PATNR\", \"DATUM_use\",\"item_text\" ,\"item_answer1_value_original\"]]\n",
    "vas_data.item_answer1_value_original = vas_data.item_answer1_value_original.astype(float )\n",
    "vas_data = vas_data.pivot_table(index=(\"PATNR\",\"DATUM_use\"), columns=\"item_text\", values=\"item_answer1_value_original\",fill_value=np.NaN).reset_index()\n",
    "vas_data.to_csv(data_dir+\"vas.csv\",index=False)"
   ]
  },
  {
   "cell_type": "code",
   "execution_count": 40,
   "metadata": {},
   "outputs": [],
   "source": [
    "das_28 = data.query(\"item_text == 'Gezwollen gewrichten'\")[[\"PATNR\", \"authored\", \"item_answer1_value_original\"]]\n",
    "das_28[\"DATUM\"] = pd.to_datetime(das_28.authored).dt.date\n",
    "das_28 = das_28.dropna(axis=0)\n",
    "das_28[\"count\"] = 1\n",
    "#das_28[\"BSE_das\"] = das_28.item_answer1_value_original.str.replace(\",\",\".\").str.strip('\"').apply(lambda x: float(str(x).split(\"=\")[-1]))\n"
   ]
  },
  {
   "cell_type": "code",
   "execution_count": 41,
   "metadata": {},
   "outputs": [],
   "source": [
    "#das_28[[\"PATNR\", \"DATUM\", \"count\"]].to_csv(data_dir+\"bse_das.csv\",index=False)"
   ]
  },
  {
   "cell_type": "code",
   "execution_count": null,
   "metadata": {},
   "outputs": [],
   "source": []
  },
  {
   "cell_type": "code",
   "execution_count": 42,
   "metadata": {},
   "outputs": [],
   "source": [
    "data = data.rename(columns={\"item_text\":\"STELLING\",\"item_answer_valueCoding_display\":\"XANTWOORD\",\"item_answer3_value_original\":\"ZANTWOORD\"})"
   ]
  },
  {
   "cell_type": "code",
   "execution_count": 43,
   "metadata": {},
   "outputs": [],
   "source": [
    "ggdf = pivot_data(dataframe=data, which=\"Zwelling\", prefix= \"Gezwollen\", JC_name=\"SJC\")"
   ]
  },
  {
   "cell_type": "code",
   "execution_count": 44,
   "metadata": {},
   "outputs": [],
   "source": [
    "pgdf = pivot_data(dataframe=data, which=\"Pijn\", prefix= \"Pijn\", JC_name=\"TJC\")"
   ]
  },
  {
   "cell_type": "code",
   "execution_count": 45,
   "metadata": {},
   "outputs": [],
   "source": [
    "dataset = pgdf.merge(ggdf, how=\"outer\", on=[\"PATNR\",\"DATUM\"]).fillna(0)"
   ]
  },
  {
   "cell_type": "code",
   "execution_count": 46,
   "metadata": {},
   "outputs": [],
   "source": [
    "df = data[[\"PATNR\",\"DATUM\",\"STELLING\",\"XANTWOORD\",\"ZANTWOORD\",\"M_DATUM\"]][data[\"STELLING\"] == \"Geen pijnlijke gewrichten\"].copy()\n",
    "df[\"value\"] = 1\n",
    "test_pg = df.pivot_table(index=(\"PATNR\",\"DATUM\"), columns=\"STELLING\", values=\"value\",fill_value=0)\n",
    "df = data[[\"PATNR\",\"DATUM\",\"STELLING\",\"XANTWOORD\",\"ZANTWOORD\",\"M_DATUM\"]][data[\"STELLING\"] == \"Geen gezwollen gewrichten\"].copy()\n",
    "df[\"value\"] = 1\n",
    "test_gg =df.pivot_table(index=(\"PATNR\",\"DATUM\"), columns=\"STELLING\", values=\"value\",fill_value=0)\n",
    "test_merge = test_gg.merge(test_pg, how=\"outer\",left_index=True, right_index=True).fillna(0)"
   ]
  },
  {
   "cell_type": "code",
   "execution_count": 47,
   "metadata": {},
   "outputs": [],
   "source": [
    "dataset = dataset.merge(test_merge, how=\"outer\", on=[\"PATNR\",\"DATUM\"]).fillna(0).drop([\"Geen gezwollen gewrichten\", \"Geen pijnlijke gewrichten\"],axis=1)"
   ]
  },
  {
   "cell_type": "code",
   "execution_count": 48,
   "metadata": {},
   "outputs": [
    {
     "data": {
      "text/plain": [
       "[['total Zwelling', 'SJC_28', 'SJC_44', 'total Pijn', 'TJC_28', 'TJC_44']]"
      ]
     },
     "execution_count": 48,
     "metadata": {},
     "output_type": "execute_result"
    }
   ],
   "source": [
    "[[\"total Zwelling\",\"SJC_28\",\"SJC_44\",\"total Pijn\",\"TJC_28\",\"TJC_44\"]]\n",
    "#dataset.drop(columns=[\"PATNR\",\"DATUM\",\"total Zwelling\",\"SJC_28\",\"SJC_44\",\"total Pijn\",\"TJC_28\",\"TJC_44\"]).to_csv(\"vae_training_data.csv\", index = False)"
   ]
  },
  {
   "cell_type": "code",
   "execution_count": 49,
   "metadata": {},
   "outputs": [
    {
     "name": "stdout",
     "output_type": "stream",
     "text": [
      "1986\n"
     ]
    }
   ],
   "source": [
    "print(len(dataset.PATNR.unique()))\n",
    "len(dataset)\n",
    "dataset.groupby([\"PATNR\",\"DATUM\"]).head(1)\n",
    "dataset.DATUM =  dataset.DATUM.dt.date"
   ]
  },
  {
   "cell_type": "code",
   "execution_count": 50,
   "metadata": {},
   "outputs": [
    {
     "data": {
      "text/plain": [
       "(TJC_28    3.135850\n",
       " SJC_28    2.349905\n",
       " dtype: float64,\n",
       " TJC_28    4.187713\n",
       " SJC_28    3.470794\n",
       " dtype: float64)"
      ]
     },
     "execution_count": 50,
     "metadata": {},
     "output_type": "execute_result"
    }
   ],
   "source": [
    "dataset[[\"TJC_28\", \"SJC_28\"]].mean(), dataset[[\"TJC_28\", \"SJC_28\"]].std()"
   ]
  },
  {
   "cell_type": "code",
   "execution_count": 51,
   "metadata": {},
   "outputs": [],
   "source": [
    "\n",
    "dataset.to_csv(data_dir+\"Leiden_mannequine_file.csv\", index=False)\n"
   ]
  },
  {
   "cell_type": "code",
   "execution_count": 52,
   "metadata": {},
   "outputs": [
    {
     "data": {
      "text/html": [
       "<div>\n",
       "<style scoped>\n",
       "    .dataframe tbody tr th:only-of-type {\n",
       "        vertical-align: middle;\n",
       "    }\n",
       "\n",
       "    .dataframe tbody tr th {\n",
       "        vertical-align: top;\n",
       "    }\n",
       "\n",
       "    .dataframe thead th {\n",
       "        text-align: right;\n",
       "    }\n",
       "</style>\n",
       "<table border=\"1\" class=\"dataframe\">\n",
       "  <thead>\n",
       "    <tr style=\"text-align: right;\">\n",
       "      <th>item_text</th>\n",
       "      <th>PATNR</th>\n",
       "      <th>DATUM</th>\n",
       "      <th>VAS Patient (mm)</th>\n",
       "      <th>VAS arts (mm)</th>\n",
       "    </tr>\n",
       "  </thead>\n",
       "  <tbody>\n",
       "  </tbody>\n",
       "</table>\n",
       "</div>"
      ],
      "text/plain": [
       "Empty DataFrame\n",
       "Columns: [PATNR, DATUM, VAS Patient (mm), VAS arts (mm)]\n",
       "Index: []"
      ]
     },
     "execution_count": 52,
     "metadata": {},
     "output_type": "execute_result"
    }
   ],
   "source": [
    "vas_data = vas_data.rename(columns={\"DATUM_use\":\"DATUM\"})\n",
    "vas_data.query(\"`VAS Patient (mm)` > 100\")"
   ]
  },
  {
   "cell_type": "code",
   "execution_count": 53,
   "metadata": {},
   "outputs": [],
   "source": [
    "#dataset.to_csv(data_dir+\"Leiden_mannequine_file.csv\", index=False)"
   ]
  },
  {
   "cell_type": "code",
   "execution_count": 54,
   "metadata": {},
   "outputs": [
    {
     "data": {
      "text/plain": [
       "1986"
      ]
     },
     "execution_count": 54,
     "metadata": {},
     "output_type": "execute_result"
    }
   ],
   "source": [
    "dataset.PATNR.nunique()"
   ]
  }
 ],
 "metadata": {
  "kernelspec": {
   "display_name": "lumc (torch)",
   "language": "python",
   "name": "lumc_torch"
  },
  "language_info": {
   "codemirror_mode": {
    "name": "ipython",
    "version": 3
   },
   "file_extension": ".py",
   "mimetype": "text/x-python",
   "name": "python",
   "nbconvert_exporter": "python",
   "pygments_lexer": "ipython3",
   "version": "3.10.8"
  }
 },
 "nbformat": 4,
 "nbformat_minor": 4
}
